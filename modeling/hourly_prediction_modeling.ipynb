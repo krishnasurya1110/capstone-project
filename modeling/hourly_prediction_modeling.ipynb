{
 "cells": [
  {
   "cell_type": "markdown",
   "id": "c185a65f",
   "metadata": {},
   "source": [
    "# Hourly ridership prediction"
   ]
  },
  {
   "cell_type": "code",
   "execution_count": 1,
   "id": "21d50987",
   "metadata": {},
   "outputs": [],
   "source": [
    "import os\n",
    "os.environ[\"GOOGLE_APPLICATION_CREDENTIALS\"] = \"/home/thehari08/Work/surya/surya_previous/lively-encoder-448916-d5-5e9819f4df4e.json\"\n",
    "\n",
    "from datetime import datetime\n",
    "\n",
    "from pyspark.sql import SparkSession\n",
    "import pyspark.sql.functions as f\n",
    "from pyspark.sql import Window\n",
    "from pyspark.sql.functions import col, count, countDistinct, sum, min, max, avg, stddev, hour, dayofweek, dayofmonth, ceil, sin, cos, lit, pi, lag, unix_timestamp, create_map\n",
    "from pyspark.sql.types import (\n",
    "    StructType, StructField, StringType, LongType, DoubleType, ArrayType, TimestampType, FloatType\n",
    ")\n",
    "\n",
    "from pyspark.ml import Pipeline\n",
    "from pyspark.ml.feature import StringIndexer, VectorAssembler\n",
    "from pyspark.ml.evaluation import RegressionEvaluator\n",
    "from pyspark.ml.tuning import CrossValidator, ParamGridBuilder\n",
    "\n",
    "import sklearn\n",
    "import xgboost as xgb\n",
    "from xgboost.spark import SparkXGBRegressor\n",
    "from pyspark.ml.regression import RandomForestRegressor"
   ]
  },
  {
   "cell_type": "markdown",
   "id": "c81d4cf1",
   "metadata": {},
   "source": [
    "### Initialize Spark session and import data from BigQuery"
   ]
  },
  {
   "cell_type": "code",
   "execution_count": 2,
   "id": "96303bab",
   "metadata": {},
   "outputs": [],
   "source": [
    "# Stop if existing Spark session is running\n",
    "if \"spark\" in locals():\n",
    "    spark.stop()"
   ]
  },
  {
   "cell_type": "code",
   "execution_count": 3,
   "id": "34dcad95",
   "metadata": {},
   "outputs": [
    {
     "name": "stderr",
     "output_type": "stream",
     "text": [
      "25/04/18 09:37:48 WARN Utils: Your hostname, theBEAST resolves to a loopback address: 127.0.1.1; using 10.20.30.10 instead (on interface enp4s0)\n",
      "25/04/18 09:37:48 WARN Utils: Set SPARK_LOCAL_IP if you need to bind to another address\n",
      "25/04/18 09:37:49 WARN NativeCodeLoader: Unable to load native-hadoop library for your platform... using builtin-java classes where applicable\n",
      "Setting default log level to \"WARN\".\n",
      "To adjust logging level use sc.setLogLevel(newLevel). For SparkR, use setLogLevel(newLevel).\n",
      "25/04/18 09:37:51 WARN SparkConf: Note that spark.local.dir will be overridden by the value set by the cluster manager (via SPARK_LOCAL_DIRS in mesos/standalone/kubernetes and LOCAL_DIRS in YARN).\n"
     ]
    }
   ],
   "source": [
    "# Initialize Spark session with GCS configuration\n",
    "spark = SparkSession.builder \\\n",
    "    .appName(\"NYC Subway Data Processing\") \\\n",
    "    .config(\"spark.jars\", \n",
    "            \"/home/thehari08/Work/surya/surya_previous/gcs-connector-hadoop3-latest.jar, /home/thehari08/Work/surya/surya_previous/spark-bigquery-with-dependencies_2.12-0.28.0.jar, https://repo1.maven.org/maven2/ml/dmlc/xgboost4j-spark_2.13/2.1.4/xgboost4j-spark_2.13-2.1.4.jar\") \\\n",
    "    .config(\"spark.hadoop.fs.gs.impl\", \"com.google.cloud.hadoop.fs.gcs.GoogleHadoopFileSystem\") \\\n",
    "    .config(\"spark.hadoop.fs.AbstractFileSystem.gs.impl\", \"com.google.cloud.hadoop.fs.gcs.GoogleHadoopFS\") \\\n",
    "    .config(\"spark.hadoop.google.cloud.auth.service.account.enable\", \"true\") \\\n",
    "    .config(\"spark.hadoop.google.cloud.auth.service.account.json.keyfile\", \n",
    "            \"/home/thehari08/Work/surya/surya_previous/lively-encoder-448916-d5-5e9819f4df4e.json\") \\\n",
    "    .master(\"local[24]\") \\\n",
    "    .config(\"spark.driver.memory\", \"48g\") \\\n",
    "    .config(\"spark.executor.memory\", \"48g\") \\\n",
    "    .config(\"spark.driver.maxResultSize\", \"4g\") \\\n",
    "    .config(\"spark.executor.cores\", \"6\") \\\n",
    "    .config(\"spark.task.cpus\", \"1\") \\\n",
    "    .config(\"spark.default.parallelism\", \"56\") \\\n",
    "    .config(\"spark.sql.shuffle.partitions\", \"56\") \\\n",
    "    .config(\"spark.serializer\", \"org.apache.spark.serializer.KryoSerializer\") \\\n",
    "    .config(\"spark.rdd.compress\", \"true\") \\\n",
    "    .config(\"spark.locality.wait\", \"0\") \\\n",
    "    .config(\"spark.sql.parquet.int96RebaseModeInRead\", \"CORRECTED\") \\\n",
    "    .config(\"spark.sql.parquet.datetimeRebaseModeInRead\", \"CORRECTED\") \\\n",
    "    .config(\"spark.sql.parquet.enableVectorizedReader\", \"false\") \\\n",
    "    .config(\"spark.sql.execution.arrow.enabled\", \"false\") \\\n",
    "    .config(\"spark.sql.execution.arrow.pyspark.enabled\", \"false\") \\\n",
    "    .config(\"spark.sql.execution.arrow.fallback.enabled\", \"false\") \\\n",
    "    .config(\"spark.local.dir\", \"/home/thehari08/Work/spark\") \\\n",
    "    .getOrCreate()\n",
    "\n",
    "# Suppress warnings, show only errors\n",
    "spark.sparkContext.setLogLevel(\"ERROR\")"
   ]
  },
  {
   "cell_type": "code",
   "execution_count": 4,
   "id": "a7d14c96",
   "metadata": {},
   "outputs": [
    {
     "name": "stderr",
     "output_type": "stream",
     "text": [
      "                                                                                \r"
     ]
    },
    {
     "name": "stdout",
     "output_type": "stream",
     "text": [
      "+-------------------+---------+--------+------------------+---------------------+-------------+--------------------+-----------+-------------------+-------------------+-----------+-------------------+-------------------+-------------+-------------------+-------------------+---------------+---------------+---------------+---------------+---------------+---------------+---------------+---------------+---------------+----------------+----------------+----------------+----------------+----------------+----------------+----------------+----------------+----------------+----------------+----------------+----------------+----------------+----------------+----------------+------------------+-----------------+-----------------+-------------------+---------------------+---------------------+---------------------+---------------------+-----------------------+-----------------------+----------------+------------------+------------------+--------------------+----------------------+----------------------+----------------------+----------------------+------------------------+------------------------+\n",
      "|transit_timestamp  |ridership|transfer|transit_mode_index|station_complex_index|borough_index|payment_method_index|hour_of_day|hour_of_day_sin    |hour_of_day_cos    |day_of_week|day_of_week_sin    |day_of_week_cos    |week_of_month|week_of_month_sin  |week_of_month_cos  |ridership_lag_1|ridership_lag_2|ridership_lag_3|ridership_lag_4|ridership_lag_5|ridership_lag_6|ridership_lag_7|ridership_lag_8|ridership_lag_9|ridership_lag_10|ridership_lag_11|ridership_lag_12|ridership_lag_13|ridership_lag_14|ridership_lag_15|ridership_lag_16|ridership_lag_17|ridership_lag_18|ridership_lag_19|ridership_lag_20|ridership_lag_21|ridership_lag_22|ridership_lag_23|ridership_lag_24|ridership_7d_mv   |hour_of_day_7d_mv|day_of_week_7d_mv|week_of_month_7d_mv|hour_of_day_sin_7d_mv|hour_of_day_cos_7d_mv|day_of_week_sin_7d_mv|day_of_week_cos_7d_mv|week_of_month_sin_7d_mv|week_of_month_cos_7d_mv|ridership_30d_mv|hour_of_day_30d_mv|day_of_week_30d_mv|week_of_month_30d_mv|hour_of_day_sin_30d_mv|hour_of_day_cos_30d_mv|day_of_week_sin_30d_mv|day_of_week_cos_30d_mv|week_of_month_sin_30d_mv|week_of_month_cos_30d_mv|\n",
      "+-------------------+---------+--------+------------------+---------------------+-------------+--------------------+-----------+-------------------+-------------------+-----------+-------------------+-------------------+-------------+-------------------+-------------------+---------------+---------------+---------------+---------------+---------------+---------------+---------------+---------------+---------------+----------------+----------------+----------------+----------------+----------------+----------------+----------------+----------------+----------------+----------------+----------------+----------------+----------------+----------------+----------------+------------------+-----------------+-----------------+-------------------+---------------------+---------------------+---------------------+---------------------+-----------------------+-----------------------+----------------+------------------+------------------+--------------------+----------------------+----------------------+----------------------+----------------------+------------------------+------------------------+\n",
      "|2020-07-23 13:00:00|141      |0       |2                 |202                  |4            |1                   |13         |-0.2588190451025208|-0.9659258262890683|5          |-0.9749279121818236|-0.2225209339563146|4.0          |-0.9510565162951536|0.30901699437494723|118            |120            |164            |230            |273            |244            |194            |79             |16             |8               |30              |26              |45              |57              |65              |110             |155             |158             |132             |128             |123             |119             |123             |179             |191.85714285714286|9.0              |5.0              |4.0                |0.613982436623225    |-0.6139824366232249  |-0.9749279121818236  |-0.2225209339563146  |-0.9510565162951536    |0.30901699437494723    |133.4           |11.4              |4.333333333333333 |4.0                 |0.1554634153382338    |-0.202603867417337    |-0.6142317968056465   |-0.674819556587051    |-0.9510565162951536     |0.30901699437494723     |\n",
      "+-------------------+---------+--------+------------------+---------------------+-------------+--------------------+-----------+-------------------+-------------------+-----------+-------------------+-------------------+-------------+-------------------+-------------------+---------------+---------------+---------------+---------------+---------------+---------------+---------------+---------------+---------------+----------------+----------------+----------------+----------------+----------------+----------------+----------------+----------------+----------------+----------------+----------------+----------------+----------------+----------------+----------------+------------------+-----------------+-----------------+-------------------+---------------------+---------------------+---------------------+---------------------+-----------------------+-----------------------+----------------+------------------+------------------+--------------------+----------------------+----------------------+----------------------+----------------------+------------------------+------------------------+\n",
      "only showing top 1 row\n",
      "\n"
     ]
    },
    {
     "name": "stderr",
     "output_type": "stream",
     "text": [
      "                                                                                \r"
     ]
    },
    {
     "data": {
      "text/plain": [
       "31121846"
      ]
     },
     "execution_count": 4,
     "metadata": {},
     "output_type": "execute_result"
    }
   ],
   "source": [
    "# Import data from BigQuery\n",
    "gcs_bucket_path = \"gs://hour_pred_data/*.parquet\"\n",
    "df = spark.read.parquet(gcs_bucket_path)\n",
    "\n",
    "df.show(1, truncate=False)\n",
    "df.count()"
   ]
  },
  {
   "cell_type": "markdown",
   "id": "b69eaed3",
   "metadata": {},
   "source": [
    "## Modeling"
   ]
  },
  {
   "cell_type": "code",
   "execution_count": 5,
   "id": "235649ab",
   "metadata": {},
   "outputs": [],
   "source": [
    "# Using 2020-2023 as train data and 2024 as test data to preserve order\n",
    "train_data = df.filter(col(\"transit_timestamp\") < \"2024-01-01\")\n",
    "test_data = df.filter(col(\"transit_timestamp\") >= \"2024-01-01\")"
   ]
  },
  {
   "cell_type": "code",
   "execution_count": 6,
   "id": "3f8f9744",
   "metadata": {},
   "outputs": [
    {
     "name": "stdout",
     "output_type": "stream",
     "text": [
      "Feature columns: ['transit_mode_index', 'station_complex_index', 'borough_index', 'payment_method_index', 'hour_of_day', 'hour_of_day_sin', 'hour_of_day_cos', 'day_of_week', 'day_of_week_sin', 'day_of_week_cos', 'week_of_month', 'week_of_month_sin', 'week_of_month_cos', 'ridership_lag_1', 'ridership_lag_2', 'ridership_lag_3', 'ridership_lag_4', 'ridership_lag_5', 'ridership_lag_6', 'ridership_lag_7', 'ridership_lag_8', 'ridership_lag_9', 'ridership_lag_10', 'ridership_lag_11', 'ridership_lag_12', 'ridership_lag_13', 'ridership_lag_14', 'ridership_lag_15', 'ridership_lag_16', 'ridership_lag_17', 'ridership_lag_18', 'ridership_lag_19', 'ridership_lag_20', 'ridership_lag_21', 'ridership_lag_22', 'ridership_lag_23', 'ridership_lag_24', 'ridership_7d_mv', 'hour_of_day_7d_mv', 'day_of_week_7d_mv', 'week_of_month_7d_mv', 'hour_of_day_sin_7d_mv', 'hour_of_day_cos_7d_mv', 'day_of_week_sin_7d_mv', 'day_of_week_cos_7d_mv', 'week_of_month_sin_7d_mv', 'week_of_month_cos_7d_mv', 'ridership_30d_mv', 'hour_of_day_30d_mv', 'day_of_week_30d_mv', 'week_of_month_30d_mv', 'hour_of_day_sin_30d_mv', 'hour_of_day_cos_30d_mv', 'day_of_week_sin_30d_mv', 'day_of_week_cos_30d_mv', 'week_of_month_sin_30d_mv', 'week_of_month_cos_30d_mv']\n"
     ]
    }
   ],
   "source": [
    "# Feature Engineering\n",
    "feature_columns = [col for col in df.columns if col not in {\"transit_timestamp\", \"ridership\", \"transfer\"}]\n",
    "print(\"Feature columns:\", feature_columns)"
   ]
  },
  {
   "cell_type": "markdown",
   "id": "d2911f0c",
   "metadata": {},
   "source": [
    "### XGBoost model"
   ]
  },
  {
   "cell_type": "code",
   "execution_count": 7,
   "id": "ba0d3f06",
   "metadata": {},
   "outputs": [
    {
     "name": "stderr",
     "output_type": "stream",
     "text": [
      "2025-04-18 09:40:15,218 INFO XGBoost-PySpark: _fit Running xgboost-3.0.0 on 8 workers with\n",
      "\tbooster params: {'objective': 'reg:squarederror', 'device': 'cpu', 'learning_rate': 0.1, 'max_depth': 10, 'nthread': 1}\n",
      "\ttrain_call_kwargs_params: {'verbose_eval': True, 'num_boost_round': 100}\n",
      "\tdmatrix_kwargs: {'nthread': 1, 'missing': nan}\n"
     ]
    },
    {
     "name": "stderr",
     "output_type": "stream",
     "text": [
      "2025-04-18 09:43:32,537 INFO XGBoost-PySpark: _train_booster Training on CPUs 8]\n",
      "[09:43:33] Task 1 got rank 1\n",
      "[09:43:33] Task 2 got rank 2\n",
      "[09:43:33] Task 3 got rank 3\n",
      "[09:43:33] Task 4 got rank 4\n",
      "[09:43:33] Task 5 got rank 5\n",
      "[09:43:33] Task 0 got rank 0\n",
      "[09:43:33] Task 6 got rank 6\n",
      "[09:43:33] Task 7 got rank 7\n",
      "[09:43:47] [0]\ttraining-rmse:259.06461\n",
      "[09:43:48] [1]\ttraining-rmse:234.54782\n",
      "[09:43:49] [2]\ttraining-rmse:212.58446\n",
      "[09:43:50] [3]\ttraining-rmse:192.85340\n",
      "[09:43:51] [4]\ttraining-rmse:175.21724\n",
      "[09:43:52] [5]\ttraining-rmse:159.39828\n",
      "[09:43:53] [6]\ttraining-rmse:145.30428\n",
      "[09:43:54] [7]\ttraining-rmse:132.71428\n",
      "[09:43:55] [8]\ttraining-rmse:121.48166\n",
      "[09:43:56] [9]\ttraining-rmse:111.48630\n",
      "[09:43:56] [10]\ttraining-rmse:102.60943\n",
      "[09:43:57] [11]\ttraining-rmse:94.69775\n",
      "[09:43:58] [12]\ttraining-rmse:87.69811\n",
      "[09:43:59] [13]\ttraining-rmse:81.57838\n",
      "[09:44:00] [14]\ttraining-rmse:76.13552\n",
      "[09:44:01] [15]\ttraining-rmse:71.37346\n",
      "[09:44:02] [16]\ttraining-rmse:67.20486\n",
      "[09:44:03] [17]\ttraining-rmse:63.57659\n",
      "[09:44:04] [18]\ttraining-rmse:60.40333\n",
      "[09:44:05] [19]\ttraining-rmse:57.66660\n",
      "[09:44:05] [20]\ttraining-rmse:55.26360\n",
      "[09:44:06] [21]\ttraining-rmse:53.20248\n",
      "[09:44:07] [22]\ttraining-rmse:51.38842\n",
      "[09:44:08] [23]\ttraining-rmse:49.81811\n",
      "[09:44:09] [24]\ttraining-rmse:48.46465\n",
      "[09:44:10] [25]\ttraining-rmse:47.24007\n",
      "[09:44:11] [26]\ttraining-rmse:46.23237\n",
      "[09:44:11] [27]\ttraining-rmse:45.28749\n",
      "[09:44:12] [28]\ttraining-rmse:44.47019\n",
      "[09:44:13] [29]\ttraining-rmse:43.76390\n",
      "[09:44:14] [30]\ttraining-rmse:43.18045\n",
      "[09:44:15] [31]\ttraining-rmse:42.64489\n",
      "[09:44:16] [32]\ttraining-rmse:42.13269\n",
      "[09:44:17] [33]\ttraining-rmse:41.72127\n",
      "[09:44:17] [34]\ttraining-rmse:41.35872\n",
      "[09:44:18] [35]\ttraining-rmse:41.00552\n",
      "[09:44:19] [36]\ttraining-rmse:40.69161\n",
      "[09:44:20] [37]\ttraining-rmse:40.38595\n",
      "[09:44:21] [38]\ttraining-rmse:40.12551\n",
      "[09:44:21] [39]\ttraining-rmse:39.88860\n",
      "[09:44:22] [40]\ttraining-rmse:39.65289\n",
      "[09:44:23] [41]\ttraining-rmse:39.42657\n",
      "[09:44:24] [42]\ttraining-rmse:39.22257\n",
      "[09:44:25] [43]\ttraining-rmse:39.03368\n",
      "[09:44:25] [44]\ttraining-rmse:38.87228\n",
      "[09:44:26] [45]\ttraining-rmse:38.70962\n",
      "[09:44:27] [46]\ttraining-rmse:38.56554\n",
      "[09:44:28] [47]\ttraining-rmse:38.45038\n",
      "[09:44:28] [48]\ttraining-rmse:38.31307\n",
      "[09:44:29] [49]\ttraining-rmse:38.19843\n",
      "[09:44:30] [50]\ttraining-rmse:38.07572\n",
      "[09:44:30] [51]\ttraining-rmse:37.96366\n",
      "[09:44:31] [52]\ttraining-rmse:37.87330                              (0 + 8) / 8]\n",
      "[09:44:32] [53]\ttraining-rmse:37.76739\n",
      "[09:44:32] [54]\ttraining-rmse:37.67951\n",
      "[09:44:33] [55]\ttraining-rmse:37.58620\n",
      "[09:44:34] [56]\ttraining-rmse:37.47778\n",
      "[09:44:34] [57]\ttraining-rmse:37.39494\n",
      "[09:44:35] [58]\ttraining-rmse:37.30660\n",
      "[09:44:36] [59]\ttraining-rmse:37.22505\n",
      "[09:44:37] [60]\ttraining-rmse:37.15894\n",
      "[09:44:37] [61]\ttraining-rmse:37.07244\n",
      "[09:44:38] [62]\ttraining-rmse:36.98248\n",
      "[09:44:39] [63]\ttraining-rmse:36.91457\n",
      "[09:44:39] [64]\ttraining-rmse:36.84769\n",
      "[09:44:40] [65]\ttraining-rmse:36.77794\n",
      "[09:44:40] [66]\ttraining-rmse:36.70050\n",
      "[09:44:41] [67]\ttraining-rmse:36.63166\n",
      "[09:44:41] [68]\ttraining-rmse:36.56031\n",
      "[09:44:42] [69]\ttraining-rmse:36.49947\n",
      "[09:44:42] [70]\ttraining-rmse:36.44332\n",
      "[09:44:43] [71]\ttraining-rmse:36.37866\n",
      "[09:44:43] [72]\ttraining-rmse:36.29890\n",
      "[09:44:44] [73]\ttraining-rmse:36.23773\n",
      "[09:44:44] [74]\ttraining-rmse:36.17807\n",
      "[09:44:45] [75]\ttraining-rmse:36.11817\n",
      "[09:44:45] [76]\ttraining-rmse:36.05044\n",
      "[09:44:46] [77]\ttraining-rmse:36.01305\n",
      "[09:44:47] [78]\ttraining-rmse:35.95930\n",
      "[09:44:47] [79]\ttraining-rmse:35.87942\n",
      "[09:44:48] [80]\ttraining-rmse:35.83037\n",
      "[09:44:48] [81]\ttraining-rmse:35.78453\n",
      "[09:44:49] [82]\ttraining-rmse:35.72002\n",
      "[09:44:50] [83]\ttraining-rmse:35.67177\n",
      "[09:44:50] [84]\ttraining-rmse:35.60891\n",
      "[09:44:51] [85]\ttraining-rmse:35.55432\n",
      "[09:44:52] [86]\ttraining-rmse:35.48818\n",
      "[09:44:52] [87]\ttraining-rmse:35.44863\n",
      "[09:44:53] [88]\ttraining-rmse:35.39610\n",
      "[09:44:53] [89]\ttraining-rmse:35.35408\n",
      "[09:44:54] [90]\ttraining-rmse:35.28994\n",
      "[09:44:55] [91]\ttraining-rmse:35.25729\n",
      "[09:44:55] [92]\ttraining-rmse:35.21525\n",
      "[09:44:56] [93]\ttraining-rmse:35.17218\n",
      "[09:44:56] [94]\ttraining-rmse:35.13281\n",
      "[09:44:57] [95]\ttraining-rmse:35.08701\n",
      "[09:44:58] [96]\ttraining-rmse:35.07407\n",
      "[09:44:58] [97]\ttraining-rmse:35.04168\n",
      "[09:44:59] [98]\ttraining-rmse:34.99303\n",
      "[09:44:59] [99]\ttraining-rmse:34.94366\n",
      "2025-04-18 09:45:01,050 INFO XGBoost-PySpark: _fit Finished xgboost training!   \n"
     ]
    }
   ],
   "source": [
    "# XGB\n",
    "# Assemble features into a single vector column\n",
    "assembler = VectorAssembler(inputCols=feature_columns, outputCol=\"features\")\n",
    "\n",
    "# Train the XGBoost Model\n",
    "xgb_regressor = SparkXGBRegressor(\n",
    "    features_col=\"features\",\n",
    "    label_col=\"ridership\",    \n",
    "    num_workers=8,        # Adjusted based on cluster configuration\n",
    "    max_depth=10,             \n",
    "    learning_rate=0.1,         \n",
    ")\n",
    "\n",
    "# Create pipeline to chain feature assembly and model training\n",
    "xgb_pipeline = Pipeline(stages=[assembler, xgb_regressor])\n",
    "\n",
    "# Fit the model directly (without cross-validation)\n",
    "xgb_model = xgb_pipeline.fit(train_data)\n",
    "\n",
    "# Make Predictions\n",
    "xgb_predictions = xgb_model.transform(test_data)"
   ]
  },
  {
   "cell_type": "code",
   "execution_count": 8,
   "id": "492c6523",
   "metadata": {},
   "outputs": [
    {
     "name": "stderr",
     "output_type": "stream",
     "text": [
      "2025-04-18 00:29:10,664 INFO XGBoost-PySpark: predict_udf Do the inference on the CPUs\n",
      "                                                                                \r"
     ]
    },
    {
     "name": "stdout",
     "output_type": "stream",
     "text": [
      "Root Mean Squared Error (RMSE): 73.0117556600609\n"
     ]
    },
    {
     "name": "stderr",
     "output_type": "stream",
     "text": [
      "2025-04-18 00:32:23,732 INFO XGBoost-PySpark: predict_udf Do the inference on the CPUs\n",
      "                                                                                \r"
     ]
    },
    {
     "name": "stdout",
     "output_type": "stream",
     "text": [
      "Mean Squared Error (MSE): 5330.716464564435\n"
     ]
    },
    {
     "name": "stderr",
     "output_type": "stream",
     "text": [
      "2025-04-18 00:35:36,089 INFO XGBoost-PySpark: predict_udf Do the inference on the CPUs\n",
      "[Stage 13:=======================================================>(60 + 1) / 61]\r"
     ]
    },
    {
     "name": "stdout",
     "output_type": "stream",
     "text": [
      "Mean Absolute Error (MAE): 21.413205062840547\n"
     ]
    },
    {
     "name": "stderr",
     "output_type": "stream",
     "text": [
      "                                                                                \r"
     ]
    }
   ],
   "source": [
    "# XGB metrics\n",
    "xgb_metrics = {\n",
    "    'rmse': 'Root Mean Squared Error',\n",
    "    'mse': 'Mean Squared Error',\n",
    "    'mae': 'Mean Absolute Error'\n",
    "}\n",
    "\n",
    "for metric, name in xgb_metrics.items():\n",
    "    xgb_evaluator = RegressionEvaluator(\n",
    "        labelCol=\"ridership\",\n",
    "        predictionCol=\"prediction\",\n",
    "        metricName=metric)\n",
    "    value = xgb_evaluator.evaluate(xgb_predictions)\n",
    "    print(f\"{name} ({metric.upper()}): {value}\")\n",
    "\n",
    "# Root Mean Squared Error (RMSE): 73.01\n",
    "# Mean Squared Error (MSE): 5330.71\n",
    "# Mean Absolute Error (MAE): 21.41"
   ]
  },
  {
   "cell_type": "markdown",
   "id": "be827fd1",
   "metadata": {},
   "source": [
    "#### Save model in cloud"
   ]
  },
  {
   "cell_type": "code",
   "execution_count": 8,
   "id": "6916d80a",
   "metadata": {},
   "outputs": [
    {
     "name": "stderr",
     "output_type": "stream",
     "text": [
      "                                                                                \r"
     ]
    }
   ],
   "source": [
    "# Save the trained XGBoost model to GCS\n",
    "gcs_model_path = \"gs://model_stored_for_pred_forecast/hourly_prediction\"\n",
    "xgb_model.write().overwrite().save(gcs_model_path)"
   ]
  },
  {
   "cell_type": "markdown",
   "id": "35e1c995",
   "metadata": {},
   "source": [
    "### Random Forest model"
   ]
  },
  {
   "cell_type": "code",
   "execution_count": null,
   "id": "face9ca8",
   "metadata": {},
   "outputs": [],
   "source": [
    "# RF model\n",
    "# Assemble features into a single vector column\n",
    "assembler = VectorAssembler(inputCols=feature_columns, outputCol=\"features\")\n",
    "\n",
    "# Train the Random Forest Model\n",
    "rf_regressor = RandomForestRegressor(\n",
    "    featuresCol=\"features\",\n",
    "    labelCol=\"ridership\",\n",
    "    numTrees=100,                 # Number of trees in the forest\n",
    "    maxDepth=10,                  # Maximum depth of each tree\n",
    "    featureSubsetStrategy=\"auto\", # Number of features to consider for splits\n",
    "    subsamplingRate=1.0,          # Fraction of training data used for each tree\n",
    "    seed=42                       \n",
    ")\n",
    "\n",
    "# Create a pipeline to chain feature assembly and model training\n",
    "rf_pipeline = Pipeline(stages=[assembler, rf_regressor])\n",
    "\n",
    "# Fit the model\n",
    "rf_model = rf_pipeline.fit(train_data)\n",
    "\n",
    "# Make Predictions\n",
    "rf_predictions = rf_model.transform(test_data)"
   ]
  },
  {
   "cell_type": "code",
   "execution_count": null,
   "id": "59d65335",
   "metadata": {},
   "outputs": [],
   "source": [
    "# RF metrics\n",
    "rf_metrics = {\n",
    "    'rmse': 'Root Mean Squared Error',\n",
    "    'mse': 'Mean Squared Error',\n",
    "    'mae': 'Mean Absolute Error'\n",
    "}\n",
    "\n",
    "for metric, name in rf_metrics.items():\n",
    "    rf_evaluator = RegressionEvaluator(\n",
    "        labelCol=\"ridership\",\n",
    "        predictionCol=\"prediction\",\n",
    "        metricName=metric)\n",
    "    value = rf_evaluator.evaluate(rf_predictions)\n",
    "    print(f\"{name} ({metric.upper()}): {value}\")\n",
    "\n",
    "# Root Mean Squared Error (RMSE): 108.04\n",
    "# Mean Squared Error (MSE): 11673.61\n",
    "# Mean Absolute Error (MAE): 29.02"
   ]
  },
  {
   "cell_type": "markdown",
   "id": "c7703d6f",
   "metadata": {},
   "source": [
    "### Storing best performing model's predictions to BigQuery"
   ]
  },
  {
   "cell_type": "code",
   "execution_count": 14,
   "id": "34810dcf",
   "metadata": {},
   "outputs": [
    {
     "name": "stderr",
     "output_type": "stream",
     "text": [
      "[Stage 15:>                                                         (0 + 1) / 1]\r"
     ]
    },
    {
     "name": "stdout",
     "output_type": "stream",
     "text": [
      "+-------------------+---------+--------+------------------+---------------------+-------------+--------------------+-----------+------------------+--------------------+-----------+-------------------+------------------+-------------+-------------------+-------------------+---------------+---------------+---------------+---------------+---------------+---------------+---------------+---------------+---------------+----------------+----------------+----------------+----------------+----------------+----------------+----------------+----------------+----------------+----------------+----------------+----------------+----------------+----------------+----------------+------------------+-----------------+-----------------+-------------------+---------------------+---------------------+---------------------+---------------------+-----------------------+-----------------------+------------------+------------------+------------------+--------------------+----------------------+----------------------+----------------------+----------------------+------------------------+------------------------+--------------------------------------------------------------------------------------------------------------------------------------------------------------------------------------------------------------------------------------------------------------------------------------------------------------------------------------------------------------------------------------------------------------------------------------------------------------------------------------------------------------------------------------------------------------------------------------------------------------------+------------------+\n",
      "|transit_timestamp  |ridership|transfer|transit_mode_index|station_complex_index|borough_index|payment_method_index|hour_of_day|hour_of_day_sin   |hour_of_day_cos     |day_of_week|day_of_week_sin    |day_of_week_cos   |week_of_month|week_of_month_sin  |week_of_month_cos  |ridership_lag_1|ridership_lag_2|ridership_lag_3|ridership_lag_4|ridership_lag_5|ridership_lag_6|ridership_lag_7|ridership_lag_8|ridership_lag_9|ridership_lag_10|ridership_lag_11|ridership_lag_12|ridership_lag_13|ridership_lag_14|ridership_lag_15|ridership_lag_16|ridership_lag_17|ridership_lag_18|ridership_lag_19|ridership_lag_20|ridership_lag_21|ridership_lag_22|ridership_lag_23|ridership_lag_24|ridership_7d_mv   |hour_of_day_7d_mv|day_of_week_7d_mv|week_of_month_7d_mv|hour_of_day_sin_7d_mv|hour_of_day_cos_7d_mv|day_of_week_sin_7d_mv|day_of_week_cos_7d_mv|week_of_month_sin_7d_mv|week_of_month_cos_7d_mv|ridership_30d_mv  |hour_of_day_30d_mv|day_of_week_30d_mv|week_of_month_30d_mv|hour_of_day_sin_30d_mv|hour_of_day_cos_30d_mv|day_of_week_sin_30d_mv|day_of_week_cos_30d_mv|week_of_month_sin_30d_mv|week_of_month_cos_30d_mv|features                                                                                                                                                                                                                                                                                                                                                                                                                                                                                                                                                                                                            |prediction        |\n",
      "+-------------------+---------+--------+------------------+---------------------+-------------+--------------------+-----------+------------------+--------------------+-----------+-------------------+------------------+-------------+-------------------+-------------------+---------------+---------------+---------------+---------------+---------------+---------------+---------------+---------------+---------------+----------------+----------------+----------------+----------------+----------------+----------------+----------------+----------------+----------------+----------------+----------------+----------------+----------------+----------------+----------------+------------------+-----------------+-----------------+-------------------+---------------------+---------------------+---------------------+---------------------+-----------------------+-----------------------+------------------+------------------+------------------+--------------------+----------------------+----------------------+----------------------+----------------------+------------------------+------------------------+--------------------------------------------------------------------------------------------------------------------------------------------------------------------------------------------------------------------------------------------------------------------------------------------------------------------------------------------------------------------------------------------------------------------------------------------------------------------------------------------------------------------------------------------------------------------------------------------------------------------+------------------+\n",
      "|2024-01-23 07:00:00|122      |0       |2                 |183                  |4            |1                   |7          |0.9659258262890683|-0.25881904510252063|3          |0.43388373911755823|-0.900968867902419|4.0          |-0.9510565162951536|0.30901699437494723|82             |70             |26             |12             |7              |3              |4              |6              |3              |12              |9               |17              |16              |42              |17              |35              |31              |34              |34              |23              |27              |40              |88              |138             |29.142857142857142|3.0              |3.0              |4.0                |0.613982436623225    |0.613982436623225    |0.43388373911755823  |-0.900968867902419   |-0.9510565162951536    |0.30901699437494723    |32.96666666666667 |9.9               |2.2333333333333334|4.0                 |0.14326256854541916   |0.10992923521208581   |0.8486842718001617    |-0.3808254518770721   |-0.9510565162951536     |0.30901699437494723     |[2.0,183.0,4.0,1.0,7.0,0.9659258262890683,-0.25881904510252063,3.0,0.43388373911755823,-0.900968867902419,4.0,-0.9510565162951536,0.30901699437494723,82.0,70.0,26.0,12.0,7.0,3.0,4.0,6.0,3.0,12.0,9.0,17.0,16.0,42.0,17.0,35.0,31.0,34.0,34.0,23.0,27.0,40.0,88.0,138.0,29.142857142857142,3.0,3.0,4.0,0.613982436623225,0.613982436623225,0.43388373911755823,-0.900968867902419,-0.9510565162951536,0.30901699437494723,32.96666666666667,9.9,2.2333333333333334,4.0,0.14326256854541916,0.10992923521208581,0.8486842718001617,-0.3808254518770721,-0.9510565162951536,0.30901699437494723]                     |105.78429412841797|\n",
      "|2024-01-23 07:00:00|227      |6       |2                 |107                  |2            |2                   |7          |0.9659258262890683|-0.25881904510252063|3          |0.43388373911755823|-0.900968867902419|4.0          |-0.9510565162951536|0.30901699437494723|123            |90             |28             |5              |3              |4              |6              |22             |20             |27              |42              |93              |133             |172             |155             |120             |128             |73              |75              |89              |86              |133             |223             |223             |37.0              |3.0              |3.0              |4.0                |0.613982436623225    |0.613982436623225    |0.43388373911755823  |-0.900968867902419   |-0.9510565162951536    |0.30901699437494723    |77.23333333333333 |9.9               |2.2333333333333334|4.0                 |0.14326256854541916   |0.10992923521208581   |0.8486842718001617    |-0.3808254518770721   |-0.9510565162951536     |0.30901699437494723     |[2.0,107.0,2.0,2.0,7.0,0.9659258262890683,-0.25881904510252063,3.0,0.43388373911755823,-0.900968867902419,4.0,-0.9510565162951536,0.30901699437494723,123.0,90.0,28.0,5.0,3.0,4.0,6.0,22.0,20.0,27.0,42.0,93.0,133.0,172.0,155.0,120.0,128.0,73.0,75.0,89.0,86.0,133.0,223.0,223.0,37.0,3.0,3.0,4.0,0.613982436623225,0.613982436623225,0.43388373911755823,-0.900968867902419,-0.9510565162951536,0.30901699437494723,77.23333333333333,9.9,2.2333333333333334,4.0,0.14326256854541916,0.10992923521208581,0.8486842718001617,-0.3808254518770721,-0.9510565162951536,0.30901699437494723]                         |234.78582763671875|\n",
      "|2024-01-23 08:00:00|891      |67      |2                 |5                    |4            |2                   |8          |0.8660254037844387|-0.4999999999999998 |3          |0.43388373911755823|-0.900968867902419|4.0          |-0.9510565162951536|0.30901699437494723|1060           |983            |697            |130            |18             |14             |7              |14             |25             |51              |68              |93              |147             |228             |288             |282             |358             |312             |303             |237             |251             |372             |496             |933             |415.57142857142856|4.0              |3.0              |4.0                |0.7519718403788062   |0.4341511444657221   |0.43388373911755823  |-0.900968867902419   |-0.9510565162951536    |0.30901699437494723    |335.26666666666665|10.1              |2.2666666666666666|4.0                 |0.16683279458497074   |0.0691044061656995    |0.8306494660313528    |-0.4034403830086089   |-0.9510565162951536     |0.30901699437494723     |[2.0,5.0,4.0,2.0,8.0,0.8660254037844387,-0.4999999999999998,3.0,0.43388373911755823,-0.900968867902419,4.0,-0.9510565162951536,0.30901699437494723,1060.0,983.0,697.0,130.0,18.0,14.0,7.0,14.0,25.0,51.0,68.0,93.0,147.0,228.0,288.0,282.0,358.0,312.0,303.0,237.0,251.0,372.0,496.0,933.0,415.57142857142856,4.0,3.0,4.0,0.7519718403788062,0.4341511444657221,0.43388373911755823,-0.900968867902419,-0.9510565162951536,0.30901699437494723,335.26666666666665,10.1,2.2666666666666666,4.0,0.16683279458497074,0.0691044061656995,0.8306494660313528,-0.4034403830086089,-0.9510565162951536,0.30901699437494723]|871.6275634765625 |\n",
      "|2024-01-23 08:00:00|306      |1       |2                 |406                  |2            |1                   |8          |0.8660254037844387|-0.4999999999999998 |3          |0.43388373911755823|-0.900968867902419|4.0          |-0.9510565162951536|0.30901699437494723|215            |74             |22             |4              |2              |1              |8              |9              |26             |55              |65              |71              |109             |181             |242             |203             |229             |105             |52              |49              |41              |68              |103             |263             |46.57142857142857 |4.0              |3.0              |4.0                |0.7519718403788062   |0.4341511444657221   |0.43388373911755823  |-0.900968867902419   |-0.9510565162951536    |0.30901699437494723    |84.66666666666667 |10.1              |2.2666666666666666|4.0                 |0.16683279458497074   |0.0691044061656995    |0.8306494660313528    |-0.4034403830086089   |-0.9510565162951536     |0.30901699437494723     |[2.0,406.0,2.0,1.0,8.0,0.8660254037844387,-0.4999999999999998,3.0,0.43388373911755823,-0.900968867902419,4.0,-0.9510565162951536,0.30901699437494723,215.0,74.0,22.0,4.0,2.0,1.0,8.0,9.0,26.0,55.0,65.0,71.0,109.0,181.0,242.0,203.0,229.0,105.0,52.0,49.0,41.0,68.0,103.0,263.0,46.57142857142857,4.0,3.0,4.0,0.7519718403788062,0.4341511444657221,0.43388373911755823,-0.900968867902419,-0.9510565162951536,0.30901699437494723,84.66666666666667,10.1,2.2666666666666666,4.0,0.16683279458497074,0.0691044061656995,0.8306494660313528,-0.4034403830086089,-0.9510565162951536,0.30901699437494723]            |267.4712829589844 |\n",
      "|2024-01-23 08:00:00|175      |0       |2                 |370                  |3            |2                   |8          |0.8660254037844387|-0.4999999999999998 |3          |0.43388373911755823|-0.900968867902419|4.0          |-0.9510565162951536|0.30901699437494723|42             |17             |3              |4              |4              |6              |2              |23             |55             |91              |118             |223             |433             |602             |676             |391             |348             |280             |195             |205             |135             |93              |103             |133             |11.142857142857142|4.0              |3.0              |4.0                |0.7519718403788062   |0.4341511444657221   |0.43388373911755823  |-0.900968867902419   |-0.9510565162951536    |0.30901699437494723    |141.8             |10.1              |2.2666666666666666|4.0                 |0.16683279458497074   |0.0691044061656995    |0.8306494660313528    |-0.4034403830086089   |-0.9510565162951536     |0.30901699437494723     |[2.0,370.0,3.0,2.0,8.0,0.8660254037844387,-0.4999999999999998,3.0,0.43388373911755823,-0.900968867902419,4.0,-0.9510565162951536,0.30901699437494723,42.0,17.0,3.0,4.0,4.0,6.0,2.0,23.0,55.0,91.0,118.0,223.0,433.0,602.0,676.0,391.0,348.0,280.0,195.0,205.0,135.0,93.0,103.0,133.0,11.142857142857142,4.0,3.0,4.0,0.7519718403788062,0.4341511444657221,0.43388373911755823,-0.900968867902419,-0.9510565162951536,0.30901699437494723,141.8,10.1,2.2666666666666666,4.0,0.16683279458497074,0.0691044061656995,0.8306494660313528,-0.4034403830086089,-0.9510565162951536,0.30901699437494723]                   |107.21585083007812|\n",
      "+-------------------+---------+--------+------------------+---------------------+-------------+--------------------+-----------+------------------+--------------------+-----------+-------------------+------------------+-------------+-------------------+-------------------+---------------+---------------+---------------+---------------+---------------+---------------+---------------+---------------+---------------+----------------+----------------+----------------+----------------+----------------+----------------+----------------+----------------+----------------+----------------+----------------+----------------+----------------+----------------+----------------+------------------+-----------------+-----------------+-------------------+---------------------+---------------------+---------------------+---------------------+-----------------------+-----------------------+------------------+------------------+------------------+--------------------+----------------------+----------------------+----------------------+----------------------+------------------------+------------------------+--------------------------------------------------------------------------------------------------------------------------------------------------------------------------------------------------------------------------------------------------------------------------------------------------------------------------------------------------------------------------------------------------------------------------------------------------------------------------------------------------------------------------------------------------------------------------------------------------------------------+------------------+\n",
      "only showing top 5 rows\n",
      "\n"
     ]
    },
    {
     "name": "stderr",
     "output_type": "stream",
     "text": [
      "2025-04-18 00:38:49,654 INFO XGBoost-PySpark: predict_udf Do the inference on the CPUs\n",
      "                                                                                \r"
     ]
    }
   ],
   "source": [
    "# Convert timestamp_ntz datatype to timestamp\n",
    "xgb_predictions = xgb_predictions.withColumn(\"transit_timestamp\", col(\"transit_timestamp\").cast(\"timestamp\"))\n",
    "xgb_predictions.show(5, truncate=False)"
   ]
  },
  {
   "cell_type": "code",
   "execution_count": 15,
   "id": "a18af4c4",
   "metadata": {},
   "outputs": [
    {
     "name": "stderr",
     "output_type": "stream",
     "text": [
      "[Stage 16:>                                                         (0 + 1) / 1]\r"
     ]
    },
    {
     "name": "stdout",
     "output_type": "stream",
     "text": [
      "+-------------------+------------------+-------------+---------------------+--------------------+---------+--------+------------------+\n",
      "|transit_timestamp  |transit_mode_index|borough_index|station_complex_index|payment_method_index|ridership|transfer|prediction        |\n",
      "+-------------------+------------------+-------------+---------------------+--------------------+---------+--------+------------------+\n",
      "|2024-01-23 07:00:00|2                 |4            |183                  |1                   |122      |0       |105.78429412841797|\n",
      "|2024-01-23 07:00:00|2                 |2            |107                  |2                   |227      |6       |234.78582763671875|\n",
      "|2024-01-23 08:00:00|2                 |4            |5                    |2                   |891      |67      |871.6275634765625 |\n",
      "|2024-01-23 08:00:00|2                 |2            |406                  |1                   |306      |1       |267.4712829589844 |\n",
      "|2024-01-23 08:00:00|2                 |3            |370                  |2                   |175      |0       |107.21585083007812|\n",
      "+-------------------+------------------+-------------+---------------------+--------------------+---------+--------+------------------+\n",
      "only showing top 5 rows\n",
      "\n"
     ]
    },
    {
     "name": "stderr",
     "output_type": "stream",
     "text": [
      "2025-04-18 00:39:01,741 INFO XGBoost-PySpark: predict_udf Do the inference on the CPUs\n",
      "                                                                                \r"
     ]
    }
   ],
   "source": [
    "# Filter relevant columns\n",
    "xgb_hour_pred = xgb_predictions.select(\"transit_timestamp\", \"transit_mode_index\", \"borough_index\", \"station_complex_index\", \"payment_method_index\", \"ridership\", \"transfer\", \"prediction\")\n",
    "xgb_hour_pred.show(5, truncate=False)"
   ]
  },
  {
   "cell_type": "code",
   "execution_count": 16,
   "id": "4d17a14c",
   "metadata": {},
   "outputs": [
    {
     "name": "stderr",
     "output_type": "stream",
     "text": [
      "[Stage 19:>                                                         (0 + 1) / 1]\r"
     ]
    },
    {
     "name": "stdout",
     "output_type": "stream",
     "text": [
      "+-------------------+------------------+-------------+---------------------+--------------------+---------+--------+------------------+--------------+------------+---------+-----------------------+\n",
      "|transit_timestamp  |transit_mode_index|borough_index|station_complex_index|payment_method_index|ridership|transfer|prediction        |payment_method|transit_mode|borough  |station_complex        |\n",
      "+-------------------+------------------+-------------+---------------------+--------------------+---------+--------+------------------+--------------+------------+---------+-----------------------+\n",
      "|2024-01-23 07:00:00|2                 |4            |183                  |1                   |122      |0       |105.78429412841797|metrocard     |subway      |Queens   |Beach 60 St (A)        |\n",
      "|2024-01-23 07:00:00|2                 |2            |107                  |2                   |227      |6       |234.78582763671875|omny          |subway      |Brooklyn |53 St (R)              |\n",
      "|2024-01-23 08:00:00|2                 |4            |5                    |2                   |891      |67      |871.6275634765625 |omny          |subway      |Queens   |103 St-Corona Plaza (7)|\n",
      "|2024-01-23 08:00:00|2                 |2            |406                  |1                   |306      |1       |267.4712829589844 |metrocard     |subway      |Brooklyn |Union St (R)           |\n",
      "|2024-01-23 08:00:00|2                 |3            |370                  |2                   |175      |0       |107.21585083007812|omny          |subway      |Manhattan|Prince St (R,W)        |\n",
      "+-------------------+------------------+-------------+---------------------+--------------------+---------+--------+------------------+--------------+------------+---------+-----------------------+\n",
      "only showing top 5 rows\n",
      "\n"
     ]
    },
    {
     "name": "stderr",
     "output_type": "stream",
     "text": [
      "2025-04-18 00:39:14,563 INFO XGBoost-PySpark: predict_udf Do the inference on the CPUs\n",
      "                                                                                \r"
     ]
    }
   ],
   "source": [
    "# Map encoded categorical columns to their original values\n",
    "payment_method_mapping = {1: 'metrocard', 2: 'omny'}\n",
    "transit_mode_mapping = {1: 'staten_island_railway', 2: 'subway', 3: 'tram'}\n",
    "borough_mapping = {1: 'Bronx', 2: 'Brooklyn', 3: 'Manhattan', 4: 'Queens', 5: 'Staten Island'}\n",
    "\n",
    "station_df = spark.read.csv(\"station_complex.csv\", header=True)\n",
    "station_df = station_df.withColumn(\"station_complex_index\", col(\"station_complex_index\").cast(\"int\"))\n",
    "station_df = station_df.select(\"station_complex_index\", \"station_complex\")\n",
    "# station_df.printSchema()\n",
    "\n",
    "station_map = station_df.rdd.collectAsMap()\n",
    "# print(station_mapping)\n",
    "station_mapping = [\n",
    "    item for pair in station_map.items() for item in (lit(pair[0]), lit(pair[1]))\n",
    "]\n",
    "\n",
    "# Create mapping expressions\n",
    "payment_method_expr = create_map([lit(k) for pair in payment_method_mapping.items() for k in pair])\n",
    "transit_mode_expr = create_map([lit(k) for pair in transit_mode_mapping.items() for k in pair])\n",
    "borough_expr = create_map([lit(k) for pair in borough_mapping.items() for k in pair])\n",
    "station_complex_expr = create_map(*station_mapping)\n",
    "\n",
    "# Apply the mappings\n",
    "xgb_hour_pred_mapped = xgb_hour_pred.withColumn(\n",
    "    \"payment_method\", \n",
    "    payment_method_expr[col(\"payment_method_index\").cast(\"int\")]\n",
    ").withColumn(\n",
    "    \"transit_mode\", \n",
    "    transit_mode_expr[col(\"transit_mode_index\").cast(\"int\")]\n",
    ").withColumn(\n",
    "    \"borough\", \n",
    "    borough_expr[col(\"borough_index\").cast(\"int\")]\n",
    ").withColumn(\n",
    "    \"station_complex\", \n",
    "    station_complex_expr[col(\"station_complex_index\").cast(\"int\")]\n",
    ")\n",
    "\n",
    "xgb_hour_pred_mapped.show(5, truncate=False)"
   ]
  },
  {
   "cell_type": "code",
   "execution_count": 17,
   "id": "5c02b626",
   "metadata": {},
   "outputs": [
    {
     "name": "stderr",
     "output_type": "stream",
     "text": [
      "[Stage 20:>                                                         (0 + 1) / 1]\r"
     ]
    },
    {
     "name": "stdout",
     "output_type": "stream",
     "text": [
      "+-------------------+------------+---------+--------------------+--------------+---------+--------+------------------+\n",
      "|  transit_timestamp|transit_mode|  borough|     station_complex|payment_method|ridership|transfer|        prediction|\n",
      "+-------------------+------------+---------+--------------------+--------------+---------+--------+------------------+\n",
      "|2024-01-23 07:00:00|      subway|   Queens|     Beach 60 St (A)|     metrocard|      122|       0|105.78429412841797|\n",
      "|2024-01-23 07:00:00|      subway| Brooklyn|           53 St (R)|          omny|      227|       6|234.78582763671875|\n",
      "|2024-01-23 08:00:00|      subway|   Queens|103 St-Corona Pla...|          omny|      891|      67| 871.6275634765625|\n",
      "|2024-01-23 08:00:00|      subway| Brooklyn|        Union St (R)|     metrocard|      306|       1| 267.4712829589844|\n",
      "|2024-01-23 08:00:00|      subway|Manhattan|     Prince St (R,W)|          omny|      175|       0|107.21585083007812|\n",
      "+-------------------+------------+---------+--------------------+--------------+---------+--------+------------------+\n",
      "only showing top 5 rows\n",
      "\n"
     ]
    },
    {
     "name": "stderr",
     "output_type": "stream",
     "text": [
      "2025-04-18 00:39:27,027 INFO XGBoost-PySpark: predict_udf Do the inference on the CPUs\n",
      "                                                                                \r"
     ]
    }
   ],
   "source": [
    "# Filter relevant columns\n",
    "xgb_hour_pred_bq = xgb_hour_pred_mapped.select('transit_timestamp', 'transit_mode', 'borough', 'station_complex', 'payment_method', 'ridership', 'transfer', 'prediction')\n",
    "xgb_hour_pred_bq.show(5)"
   ]
  },
  {
   "cell_type": "markdown",
   "id": "62722f1b",
   "metadata": {},
   "source": [
    "### Store predictions in BigQuery"
   ]
  },
  {
   "cell_type": "code",
   "execution_count": 18,
   "id": "9395b5e0",
   "metadata": {},
   "outputs": [
    {
     "name": "stderr",
     "output_type": "stream",
     "text": [
      "2025-04-18 00:39:44,571 INFO XGBoost-PySpark: predict_udf Do the inference on the CPUs\n",
      "                                                                                \r"
     ]
    }
   ],
   "source": [
    "# Write predictions to BigQuery\n",
    "xgb_hour_pred_bq.write.format(\"bigquery\") \\\n",
    "    .option(\"table\", \"lively-encoder-448916-d5.nyc_subway.hourly_predictions\") \\\n",
    "    .option(\"temporaryGcsBucket\", \"temp_nyc_bucket_for_bq\") \\\n",
    "    .mode(\"overwrite\") \\\n",
    "    .save()"
   ]
  }
 ],
 "metadata": {
  "kernelspec": {
   "display_name": "Python 3",
   "language": "python",
   "name": "python3"
  },
  "language_info": {
   "codemirror_mode": {
    "name": "ipython",
    "version": 3
   },
   "file_extension": ".py",
   "mimetype": "text/x-python",
   "name": "python",
   "nbconvert_exporter": "python",
   "pygments_lexer": "ipython3",
   "version": "3.12.3"
  }
 },
 "nbformat": 4,
 "nbformat_minor": 5
}
