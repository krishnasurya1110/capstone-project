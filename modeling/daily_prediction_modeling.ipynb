{
 "cells": [
  {
   "cell_type": "markdown",
   "id": "0464a0e8",
   "metadata": {},
   "source": [
    "# Daily ridership prediction"
   ]
  },
  {
   "cell_type": "code",
   "execution_count": 1,
   "id": "226c7211",
   "metadata": {},
   "outputs": [],
   "source": [
    "import os\n",
    "os.environ[\"GOOGLE_APPLICATION_CREDENTIALS\"] = \"/home/thehari08/Work/surya/surya_previous/lively-encoder-448916-d5-5e9819f4df4e.json\"\n",
    "\n",
    "from datetime import datetime\n",
    "\n",
    "from pyspark.sql import SparkSession\n",
    "import pyspark.sql.functions as f\n",
    "from pyspark.sql import Window\n",
    "from pyspark.sql.functions import col, count, countDistinct, sum, min, max, avg, stddev, hour, dayofweek, dayofmonth, ceil, sin, cos, lit, pi, lag, unix_timestamp, create_map\n",
    "from pyspark.sql.types import (\n",
    "    StructType, StructField, StringType, LongType, DoubleType, ArrayType, TimestampType, FloatType\n",
    ")\n",
    "\n",
    "from pyspark.ml import Pipeline\n",
    "from pyspark.ml.feature import StringIndexer, VectorAssembler\n",
    "from pyspark.ml.evaluation import RegressionEvaluator\n",
    "from pyspark.ml.tuning import CrossValidator, ParamGridBuilder\n",
    "\n",
    "import sklearn\n",
    "import xgboost as xgb\n",
    "from xgboost.spark import SparkXGBRegressor\n",
    "from pyspark.ml.regression import RandomForestRegressor"
   ]
  },
  {
   "cell_type": "markdown",
   "id": "58fc9284",
   "metadata": {},
   "source": [
    "### Initialize Spark session and import data from BigQuery"
   ]
  },
  {
   "cell_type": "code",
   "execution_count": 30,
   "id": "6ac0545d",
   "metadata": {},
   "outputs": [],
   "source": [
    "# Stop if existing Spark session is running\n",
    "if \"spark\" in locals():\n",
    "    spark.stop()"
   ]
  },
  {
   "cell_type": "code",
   "execution_count": 3,
   "id": "4360ea15",
   "metadata": {},
   "outputs": [
    {
     "name": "stderr",
     "output_type": "stream",
     "text": [
      "25/04/18 07:23:26 WARN Utils: Your hostname, theBEAST resolves to a loopback address: 127.0.1.1; using 10.20.30.10 instead (on interface enp4s0)\n",
      "25/04/18 07:23:26 WARN Utils: Set SPARK_LOCAL_IP if you need to bind to another address\n",
      "25/04/18 07:23:26 WARN NativeCodeLoader: Unable to load native-hadoop library for your platform... using builtin-java classes where applicable\n",
      "Setting default log level to \"WARN\".\n",
      "To adjust logging level use sc.setLogLevel(newLevel). For SparkR, use setLogLevel(newLevel).\n",
      "25/04/18 07:23:28 WARN SparkConf: Note that spark.local.dir will be overridden by the value set by the cluster manager (via SPARK_LOCAL_DIRS in mesos/standalone/kubernetes and LOCAL_DIRS in YARN).\n"
     ]
    }
   ],
   "source": [
    "# Initialize Spark session with GCS configuration\n",
    "spark = SparkSession.builder \\\n",
    "    .appName(\"NYC Subway Data Processing\") \\\n",
    "    .config(\"spark.jars\", \n",
    "            \"/home/thehari08/Work/surya/surya_previous/gcs-connector-hadoop3-latest.jar, /home/thehari08/Work/surya/surya_previous/spark-bigquery-with-dependencies_2.12-0.28.0.jar, https://repo1.maven.org/maven2/ml/dmlc/xgboost4j-spark_2.13/2.1.4/xgboost4j-spark_2.13-2.1.4.jar\") \\\n",
    "    .config(\"spark.hadoop.fs.gs.impl\", \"com.google.cloud.hadoop.fs.gcs.GoogleHadoopFileSystem\") \\\n",
    "    .config(\"spark.hadoop.fs.AbstractFileSystem.gs.impl\", \"com.google.cloud.hadoop.fs.gcs.GoogleHadoopFS\") \\\n",
    "    .config(\"spark.hadoop.google.cloud.auth.service.account.enable\", \"true\") \\\n",
    "    .config(\"spark.hadoop.google.cloud.auth.service.account.json.keyfile\", \n",
    "            \"/home/thehari08/Work/surya/surya_previous/lively-encoder-448916-d5-5e9819f4df4e.json\") \\\n",
    "    .master(\"local[24]\") \\\n",
    "    .config(\"spark.driver.memory\", \"48g\") \\\n",
    "    .config(\"spark.executor.memory\", \"48g\") \\\n",
    "    .config(\"spark.driver.maxResultSize\", \"4g\") \\\n",
    "    .config(\"spark.executor.cores\", \"6\") \\\n",
    "    .config(\"spark.task.cpus\", \"1\") \\\n",
    "    .config(\"spark.default.parallelism\", \"56\") \\\n",
    "    .config(\"spark.sql.shuffle.partitions\", \"56\") \\\n",
    "    .config(\"spark.serializer\", \"org.apache.spark.serializer.KryoSerializer\") \\\n",
    "    .config(\"spark.rdd.compress\", \"true\") \\\n",
    "    .config(\"spark.locality.wait\", \"0\") \\\n",
    "    .config(\"spark.sql.parquet.int96RebaseModeInRead\", \"CORRECTED\") \\\n",
    "    .config(\"spark.sql.parquet.datetimeRebaseModeInRead\", \"CORRECTED\") \\\n",
    "    .config(\"spark.sql.parquet.enableVectorizedReader\", \"false\") \\\n",
    "    .config(\"spark.sql.execution.arrow.enabled\", \"false\") \\\n",
    "    .config(\"spark.sql.execution.arrow.pyspark.enabled\", \"false\") \\\n",
    "    .config(\"spark.sql.execution.arrow.fallback.enabled\", \"false\") \\\n",
    "    .config(\"spark.local.dir\", \"/home/thehari08/Work/spark\") \\\n",
    "    .getOrCreate()\n",
    "\n",
    "# Suppress warnings, show only errors\n",
    "spark.sparkContext.setLogLevel(\"ERROR\")"
   ]
  },
  {
   "cell_type": "code",
   "execution_count": 4,
   "id": "26f184b7",
   "metadata": {},
   "outputs": [
    {
     "name": "stderr",
     "output_type": "stream",
     "text": [
      "                                                                                \r"
     ]
    },
    {
     "name": "stdout",
     "output_type": "stream",
     "text": [
      "+------------+------------------+---------------------+-------------+--------------------+---------+--------+-----------+-----------------------+---------------+-------------+------------------+-------------------+---------------+---------------+---------------+---------------+---------------+---------------+---------------+---------------+---------------+----------------+----------------+----------------+----------------+----------------+----------------+----------------+----------------+----------------+----------------+----------------+----------------+----------------+----------------+----------------+----------------+----------------+----------------+----------------+----------------+----------------+---------------+-----------------+-------------------+---------------------+---------------------+-----------------------+-----------------------+----------------+------------------+--------------------+----------------------+----------------------+------------------------+------------------------+\n",
      "|transit_date|transit_mode_index|station_complex_index|borough_index|payment_method_index|ridership|transfer|day_of_week|day_of_week_sin        |day_of_week_cos|week_of_month|week_of_month_sin |week_of_month_cos  |ridership_lag_1|ridership_lag_2|ridership_lag_3|ridership_lag_4|ridership_lag_5|ridership_lag_6|ridership_lag_7|ridership_lag_8|ridership_lag_9|ridership_lag_10|ridership_lag_11|ridership_lag_12|ridership_lag_13|ridership_lag_14|ridership_lag_15|ridership_lag_16|ridership_lag_17|ridership_lag_18|ridership_lag_19|ridership_lag_20|ridership_lag_21|ridership_lag_22|ridership_lag_23|ridership_lag_24|ridership_lag_25|ridership_lag_26|ridership_lag_27|ridership_lag_28|ridership_lag_29|ridership_lag_30|ridership_7d_mv|day_of_week_7d_mv|week_of_month_7d_mv|day_of_week_sin_7d_mv|day_of_week_cos_7d_mv|week_of_month_sin_7d_mv|week_of_month_cos_7d_mv|ridership_30d_mv|day_of_week_30d_mv|week_of_month_30d_mv|day_of_week_sin_30d_mv|day_of_week_cos_30d_mv|week_of_month_sin_30d_mv|week_of_month_cos_30d_mv|\n",
      "+------------+------------------+---------------------+-------------+--------------------+---------+--------+-----------+-----------------------+---------------+-------------+------------------+-------------------+---------------+---------------+---------------+---------------+---------------+---------------+---------------+---------------+---------------+----------------+----------------+----------------+----------------+----------------+----------------+----------------+----------------+----------------+----------------+----------------+----------------+----------------+----------------+----------------+----------------+----------------+----------------+----------------+----------------+----------------+---------------+-----------------+-------------------+---------------------+---------------------+-----------------------+-----------------------+----------------+------------------+--------------------+----------------------+----------------------+------------------------+------------------------+\n",
      "|2020-08-01  |2                 |192                  |2            |1                   |1461     |0       |7          |-2.4492935982947064E-16|1.0            |1.0          |0.9510565162951535|0.30901699437494745|2014           |1897           |1977           |1888           |1792           |1008           |1352           |1837           |1872           |1798            |1850            |1780            |963             |1328            |1892            |1935            |1857            |1867            |1802            |1083            |1192            |1563            |1957            |1777            |1698            |1630            |868             |967             |1416            |1799            |2014.0         |6.0              |5.0                |-0.7818314824680299  |0.6234898018587334   |-2.4492935982947064E-16|1.0                    |2014.0          |6.0               |5.0                 |-0.7818314824680299   |0.6234898018587334    |-2.4492935982947064E-16 |1.0                     |\n",
      "+------------+------------------+---------------------+-------------+--------------------+---------+--------+-----------+-----------------------+---------------+-------------+------------------+-------------------+---------------+---------------+---------------+---------------+---------------+---------------+---------------+---------------+---------------+----------------+----------------+----------------+----------------+----------------+----------------+----------------+----------------+----------------+----------------+----------------+----------------+----------------+----------------+----------------+----------------+----------------+----------------+----------------+----------------+----------------+---------------+-----------------+-------------------+---------------------+---------------------+-----------------------+-----------------------+----------------+------------------+--------------------+----------------------+----------------------+------------------------+------------------------+\n",
      "only showing top 1 row\n",
      "\n"
     ]
    },
    {
     "name": "stderr",
     "output_type": "stream",
     "text": [
      "                                                                                \r"
     ]
    },
    {
     "data": {
      "text/plain": [
       "1355175"
      ]
     },
     "execution_count": 4,
     "metadata": {},
     "output_type": "execute_result"
    }
   ],
   "source": [
    "# Import data from BigQuery\n",
    "gcs_bucket_path = \"gs://date_pred_data/*.parquet\"\n",
    "df = spark.read.parquet(gcs_bucket_path)\n",
    "\n",
    "df.show(1, truncate=False)\n",
    "df.count()"
   ]
  },
  {
   "cell_type": "markdown",
   "id": "31866134",
   "metadata": {},
   "source": [
    "## Modeling"
   ]
  },
  {
   "cell_type": "code",
   "execution_count": 5,
   "id": "fc032dfc",
   "metadata": {},
   "outputs": [],
   "source": [
    "# Using 2020-2023 as train data and 2024 as test data to preserve order\n",
    "train_data = df.filter(col(\"transit_date\") < \"2024-01-01\")\n",
    "test_data = df.filter(col(\"transit_date\") >= \"2024-01-01\")"
   ]
  },
  {
   "cell_type": "code",
   "execution_count": 6,
   "id": "e147716e",
   "metadata": {},
   "outputs": [
    {
     "name": "stdout",
     "output_type": "stream",
     "text": [
      "Feature columns: ['transit_mode_index', 'station_complex_index', 'borough_index', 'payment_method_index', 'day_of_week', 'day_of_week_sin', 'day_of_week_cos', 'week_of_month', 'week_of_month_sin', 'week_of_month_cos', 'ridership_lag_1', 'ridership_lag_2', 'ridership_lag_3', 'ridership_lag_4', 'ridership_lag_5', 'ridership_lag_6', 'ridership_lag_7', 'ridership_lag_8', 'ridership_lag_9', 'ridership_lag_10', 'ridership_lag_11', 'ridership_lag_12', 'ridership_lag_13', 'ridership_lag_14', 'ridership_lag_15', 'ridership_lag_16', 'ridership_lag_17', 'ridership_lag_18', 'ridership_lag_19', 'ridership_lag_20', 'ridership_lag_21', 'ridership_lag_22', 'ridership_lag_23', 'ridership_lag_24', 'ridership_lag_25', 'ridership_lag_26', 'ridership_lag_27', 'ridership_lag_28', 'ridership_lag_29', 'ridership_lag_30', 'ridership_7d_mv', 'day_of_week_7d_mv', 'week_of_month_7d_mv', 'day_of_week_sin_7d_mv', 'day_of_week_cos_7d_mv', 'week_of_month_sin_7d_mv', 'week_of_month_cos_7d_mv', 'ridership_30d_mv', 'day_of_week_30d_mv', 'week_of_month_30d_mv', 'day_of_week_sin_30d_mv', 'day_of_week_cos_30d_mv', 'week_of_month_sin_30d_mv', 'week_of_month_cos_30d_mv']\n"
     ]
    }
   ],
   "source": [
    "# Feature Engineering\n",
    "feature_columns = [col for col in df.columns if col not in {\"transit_date\", \"ridership\", \"transfer\"}]\n",
    "print(\"Feature columns:\", feature_columns)"
   ]
  },
  {
   "cell_type": "markdown",
   "id": "ddc33464",
   "metadata": {},
   "source": [
    "### XGBoost model"
   ]
  },
  {
   "cell_type": "code",
   "execution_count": 7,
   "id": "908e5369",
   "metadata": {},
   "outputs": [
    {
     "name": "stderr",
     "output_type": "stream",
     "text": [
      "2025-04-18 07:24:18,786 INFO XGBoost-PySpark: _fit Running xgboost-3.0.0 on 8 workers with\n",
      "\tbooster params: {'objective': 'reg:squarederror', 'device': 'cpu', 'learning_rate': 0.1, 'max_depth': 10, 'nthread': 1}\n",
      "\ttrain_call_kwargs_params: {'verbose_eval': True, 'num_boost_round': 100}\n",
      "\tdmatrix_kwargs: {'nthread': 1, 'missing': nan}\n"
     ]
    },
    {
     "name": "stderr",
     "output_type": "stream",
     "text": [
      "2025-04-18 07:24:43,522 INFO XGBoost-PySpark: _train_booster Training on CPUs 8]\n",
      "[07:24:44] Task 0 got rank 0\n",
      "[07:24:44] Task 2 got rank 2\n",
      "[07:24:44] Task 4 got rank 4\n",
      "[07:24:44] Task 3 got rank 3\n",
      "[07:24:44] Task 5 got rank 5\n",
      "[07:24:44] Task 6 got rank 6\n",
      "[07:24:44] Task 7 got rank 7\n",
      "[07:24:44] Task 1 got rank 1\n",
      "[07:24:45] [0]\ttraining-rmse:4333.35137\n",
      "[07:24:45] [1]\ttraining-rmse:3913.47675\n",
      "[07:24:45] [2]\ttraining-rmse:3536.30481\n",
      "[07:24:46] [3]\ttraining-rmse:3197.60639\n",
      "[07:24:46] [4]\ttraining-rmse:2893.57917\n",
      "[07:24:46] [5]\ttraining-rmse:2620.90182\n",
      "[07:24:46] [6]\ttraining-rmse:2376.10225\n",
      "[07:24:47] [7]\ttraining-rmse:2156.85164\n",
      "[07:24:47] [8]\ttraining-rmse:1960.96658\n",
      "[07:24:47] [9]\ttraining-rmse:1785.62963\n",
      "[07:24:47] [10]\ttraining-rmse:1629.14021\n",
      "[07:24:47] [11]\ttraining-rmse:1489.84261\n",
      "[07:24:48] [12]\ttraining-rmse:1365.31872\n",
      "[07:24:48] [13]\ttraining-rmse:1254.68255\n",
      "[07:24:48] [14]\ttraining-rmse:1156.94562\n",
      "[07:24:48] [15]\ttraining-rmse:1069.95641\n",
      "[07:24:48] [16]\ttraining-rmse:993.51860\n",
      "[07:24:49] [17]\ttraining-rmse:926.28686\n",
      "[07:24:49] [18]\ttraining-rmse:867.25087\n",
      "[07:24:49] [19]\ttraining-rmse:815.83564\n",
      "[07:24:49] [20]\ttraining-rmse:770.43267\n",
      "[07:24:50] [21]\ttraining-rmse:731.38124\n",
      "[07:24:50] [22]\ttraining-rmse:697.15487\n",
      "[07:24:50] [23]\ttraining-rmse:668.00160\n",
      "[07:24:50] [24]\ttraining-rmse:642.55771\n",
      "[07:24:50] [25]\ttraining-rmse:619.84147\n",
      "[07:24:51] [26]\ttraining-rmse:600.56158\n",
      "[07:24:51] [27]\ttraining-rmse:583.46084\n",
      "[07:24:51] [28]\ttraining-rmse:569.60525\n",
      "[07:24:51] [29]\ttraining-rmse:556.95140\n",
      "[07:24:52] [30]\ttraining-rmse:545.62463\n",
      "[07:24:52] [31]\ttraining-rmse:536.23472\n",
      "[07:24:52] [32]\ttraining-rmse:527.61930\n",
      "[07:24:52] [33]\ttraining-rmse:520.39394\n",
      "[07:24:52] [34]\ttraining-rmse:513.72770\n",
      "[07:24:53] [35]\ttraining-rmse:508.00432\n",
      "[07:24:53] [36]\ttraining-rmse:502.25297\n",
      "[07:24:53] [37]\ttraining-rmse:497.49878\n",
      "[07:24:53] [38]\ttraining-rmse:493.29253\n",
      "[07:24:53] [39]\ttraining-rmse:489.23678\n",
      "[07:24:54] [40]\ttraining-rmse:485.87180\n",
      "[07:24:54] [41]\ttraining-rmse:482.88932\n",
      "[07:24:54] [42]\ttraining-rmse:479.81695\n",
      "[07:24:54] [43]\ttraining-rmse:476.79206\n",
      "[07:24:54] [44]\ttraining-rmse:472.92098\n",
      "[07:24:55] [45]\ttraining-rmse:470.57797\n",
      "[07:24:55] [46]\ttraining-rmse:468.09192\n",
      "[07:24:55] [47]\ttraining-rmse:466.05513\n",
      "[07:24:55] [48]\ttraining-rmse:463.91800\n",
      "[07:24:55] [49]\ttraining-rmse:462.01953\n",
      "[07:24:56] [50]\ttraining-rmse:459.55235\n",
      "[07:24:56] [51]\ttraining-rmse:457.28601\n",
      "[07:24:56] [52]\ttraining-rmse:455.14077\n",
      "[07:24:56] [53]\ttraining-rmse:453.13350\n",
      "[07:24:56] [54]\ttraining-rmse:451.23591\n",
      "[07:24:56] [55]\ttraining-rmse:449.74960\n",
      "[07:24:57] [56]\ttraining-rmse:448.26104\n",
      "[07:24:57] [57]\ttraining-rmse:446.54054\n",
      "[07:24:57] [58]\ttraining-rmse:445.28840\n",
      "[07:24:57] [59]\ttraining-rmse:443.84584\n",
      "[07:24:57] [60]\ttraining-rmse:442.23074\n",
      "[07:24:57] [61]\ttraining-rmse:440.51209\n",
      "[07:24:58] [62]\ttraining-rmse:439.13174\n",
      "[07:24:58] [63]\ttraining-rmse:437.96990\n",
      "[07:24:58] [64]\ttraining-rmse:436.89965\n",
      "[07:24:58] [65]\ttraining-rmse:435.22311\n",
      "[07:24:58] [66]\ttraining-rmse:434.29198\n",
      "[07:24:58] [67]\ttraining-rmse:432.80160\n",
      "[07:24:59] [68]\ttraining-rmse:432.03334\n",
      "[07:24:59] [69]\ttraining-rmse:431.51468\n",
      "[07:24:59] [70]\ttraining-rmse:430.51946\n",
      "[07:24:59] [71]\ttraining-rmse:428.64781\n",
      "[07:24:59] [72]\ttraining-rmse:428.03422\n",
      "[07:24:59] [73]\ttraining-rmse:427.68592\n",
      "[07:24:59] [74]\ttraining-rmse:426.37561\n",
      "[07:25:00] [75]\ttraining-rmse:424.27007\n",
      "[07:25:00] [76]\ttraining-rmse:423.77457\n",
      "[07:25:00] [77]\ttraining-rmse:423.18262\n",
      "[07:25:00] [78]\ttraining-rmse:421.90827\n",
      "[07:25:00] [79]\ttraining-rmse:420.73681\n",
      "[07:25:00] [80]\ttraining-rmse:419.91465\n",
      "[07:25:01] [81]\ttraining-rmse:418.57684\n",
      "[07:25:01] [82]\ttraining-rmse:417.16169\n",
      "[07:25:01] [83]\ttraining-rmse:415.75860\n",
      "[07:25:01] [84]\ttraining-rmse:415.20322\n",
      "[07:25:01] [85]\ttraining-rmse:414.52583\n",
      "[07:25:01] [86]\ttraining-rmse:413.84427\n",
      "[07:25:01] [87]\ttraining-rmse:413.67019\n",
      "[07:25:01] [88]\ttraining-rmse:413.46028\n",
      "[07:25:02] [89]\ttraining-rmse:411.95983\n",
      "[07:25:02] [90]\ttraining-rmse:410.83692\n",
      "[07:25:02] [91]\ttraining-rmse:409.68154\n",
      "[07:25:02] [92]\ttraining-rmse:408.88225\n",
      "[07:25:02] [93]\ttraining-rmse:408.33563\n",
      "[07:25:02] [94]\ttraining-rmse:407.78322\n",
      "[07:25:02] [95]\ttraining-rmse:407.23309\n",
      "[07:25:03] [96]\ttraining-rmse:407.13493\n",
      "[07:25:03] [97]\ttraining-rmse:406.52518\n",
      "[07:25:03] [98]\ttraining-rmse:406.23466\n",
      "[07:25:03] [99]\ttraining-rmse:405.83143\n",
      "2025-04-18 07:25:04,579 INFO XGBoost-PySpark: _fit Finished xgboost training!   \n"
     ]
    }
   ],
   "source": [
    "# XGB\n",
    "# Assemble features into a single vector column\n",
    "assembler = VectorAssembler(inputCols=feature_columns, outputCol=\"features\")\n",
    "\n",
    "# Train the XGBoost Model\n",
    "xgb_regressor = SparkXGBRegressor(\n",
    "    features_col=\"features\",\n",
    "    label_col=\"ridership\",    \n",
    "    num_workers=8,        # Adjusted based on cluster configuration\n",
    "    max_depth=10,             \n",
    "    learning_rate=0.1,         \n",
    ")\n",
    "\n",
    "# Create pipeline to chain feature assembly and model training\n",
    "xgb_pipeline = Pipeline(stages=[assembler, xgb_regressor])\n",
    "\n",
    "# Fit the model directly (without cross-validation)\n",
    "xgb_model = xgb_pipeline.fit(train_data)\n",
    "\n",
    "# Make Predictions\n",
    "xgb_predictions = xgb_model.transform(test_data)"
   ]
  },
  {
   "cell_type": "code",
   "execution_count": 8,
   "id": "d182670e",
   "metadata": {},
   "outputs": [
    {
     "name": "stderr",
     "output_type": "stream",
     "text": [
      "2025-04-18 07:25:18,870 INFO XGBoost-PySpark: predict_udf Do the inference on the CPUs\n",
      "                                                                                \r"
     ]
    },
    {
     "name": "stdout",
     "output_type": "stream",
     "text": [
      "Root Mean Squared Error (RMSE): 1271.6277225599736\n"
     ]
    },
    {
     "name": "stderr",
     "output_type": "stream",
     "text": [
      "2025-04-18 07:25:42,044 INFO XGBoost-PySpark: predict_udf Do the inference on the CPUs\n",
      "                                                                                \r"
     ]
    },
    {
     "name": "stdout",
     "output_type": "stream",
     "text": [
      "Mean Squared Error (MSE): 1617037.064783065\n"
     ]
    },
    {
     "name": "stderr",
     "output_type": "stream",
     "text": [
      "2025-04-18 07:26:03,819 INFO XGBoost-PySpark: predict_udf Do the inference on the CPUs\n",
      "[Stage 12:======================================================> (37 + 1) / 38]\r"
     ]
    },
    {
     "name": "stdout",
     "output_type": "stream",
     "text": [
      "Mean Absolute Error (MAE): 366.85428671978406\n"
     ]
    },
    {
     "name": "stderr",
     "output_type": "stream",
     "text": [
      "                                                                                \r"
     ]
    }
   ],
   "source": [
    "# XGB metrics\n",
    "xgb_metrics = {\n",
    "    'rmse': 'Root Mean Squared Error',\n",
    "    'mse': 'Mean Squared Error',\n",
    "    'mae': 'Mean Absolute Error'\n",
    "}\n",
    "\n",
    "for metric, name in xgb_metrics.items():\n",
    "    xgb_evaluator = RegressionEvaluator(\n",
    "        labelCol=\"ridership\",\n",
    "        predictionCol=\"prediction\",\n",
    "        metricName=metric)\n",
    "    value = xgb_evaluator.evaluate(xgb_predictions)\n",
    "    print(f\"{name} ({metric.upper()}): {value}\")\n",
    "\n",
    "# Root Mean Squared Error (RMSE): 1271.62\n",
    "# Mean Squared Error (MSE): 1617037.06\n",
    "# Mean Absolute Error (MAE): 366.85"
   ]
  },
  {
   "cell_type": "markdown",
   "id": "9a7f96ad",
   "metadata": {},
   "source": [
    "### Save model in cloud"
   ]
  },
  {
   "cell_type": "code",
   "execution_count": null,
   "id": "1d00613b",
   "metadata": {},
   "outputs": [],
   "source": [
    "# Save the trained XGBoost model to GCS\n",
    "gcs_model_path = \"gs://model_stored_for_pred_forecast/daily_prediction\"\n",
    "xgb_model.write().overwrite().save(gcs_model_path)"
   ]
  },
  {
   "cell_type": "markdown",
   "id": "114edb67",
   "metadata": {},
   "source": [
    "### Random Forest model"
   ]
  },
  {
   "cell_type": "code",
   "execution_count": 12,
   "id": "a896b73e",
   "metadata": {},
   "outputs": [
    {
     "name": "stderr",
     "output_type": "stream",
     "text": [
      "[Stage 16:==========================================>             (29 + 9) / 38]\r"
     ]
    },
    {
     "name": "stderr",
     "output_type": "stream",
     "text": [
      "                                                                                \r"
     ]
    }
   ],
   "source": [
    "# RF model\n",
    "# Assemble features into a single vector column\n",
    "assembler = VectorAssembler(inputCols=feature_columns, outputCol=\"features\")\n",
    "\n",
    "# Train the Random Forest Model\n",
    "rf_regressor = RandomForestRegressor(\n",
    "    featuresCol=\"features\",\n",
    "    labelCol=\"ridership\",\n",
    "    numTrees=100,                 # Number of trees in the forest\n",
    "    maxDepth=10,                  # Maximum depth of each tree\n",
    "    featureSubsetStrategy=\"auto\", # Number of features to consider for splits\n",
    "    subsamplingRate=1.0,          # Fraction of training data used for each tree\n",
    "    seed=42                       \n",
    ")\n",
    "\n",
    "# Create a pipeline to chain feature assembly and model training\n",
    "rf_pipeline = Pipeline(stages=[assembler, rf_regressor])\n",
    "\n",
    "# Fit the model\n",
    "rf_model = rf_pipeline.fit(train_data)\n",
    "\n",
    "# Make Predictions\n",
    "rf_predictions = rf_model.transform(test_data)"
   ]
  },
  {
   "cell_type": "code",
   "execution_count": 13,
   "id": "c4fc0208",
   "metadata": {},
   "outputs": [
    {
     "name": "stderr",
     "output_type": "stream",
     "text": [
      "                                                                                \r"
     ]
    },
    {
     "name": "stdout",
     "output_type": "stream",
     "text": [
      "Root Mean Squared Error (RMSE): 2269.5111255898855\n"
     ]
    },
    {
     "name": "stderr",
     "output_type": "stream",
     "text": [
      "[Stage 44:>                                                       (0 + 24) / 38]\r"
     ]
    },
    {
     "name": "stderr",
     "output_type": "stream",
     "text": [
      "                                                                                \r"
     ]
    },
    {
     "name": "stdout",
     "output_type": "stream",
     "text": [
      "Mean Squared Error (MSE): 5150680.749176269\n"
     ]
    },
    {
     "name": "stderr",
     "output_type": "stream",
     "text": [
      "[Stage 46:======================================================> (37 + 1) / 38]\r"
     ]
    },
    {
     "name": "stdout",
     "output_type": "stream",
     "text": [
      "Mean Absolute Error (MAE): 551.2335129139828\n"
     ]
    },
    {
     "name": "stderr",
     "output_type": "stream",
     "text": [
      "                                                                                \r"
     ]
    }
   ],
   "source": [
    "# RF metrics\n",
    "rf_metrics = {\n",
    "    'rmse': 'Root Mean Squared Error',\n",
    "    'mse': 'Mean Squared Error',\n",
    "    'mae': 'Mean Absolute Error'\n",
    "}\n",
    "\n",
    "for metric, name in rf_metrics.items():\n",
    "    rf_evaluator = RegressionEvaluator(\n",
    "        labelCol=\"ridership\",\n",
    "        predictionCol=\"prediction\",\n",
    "        metricName=metric)\n",
    "    value = rf_evaluator.evaluate(rf_predictions)\n",
    "    print(f\"{name} ({metric.upper()}): {value}\")\n",
    "\n",
    "# Root Mean Squared Error (RMSE): 2269.51\n",
    "# Mean Squared Error (MSE): 5150680.74\n",
    "# Mean Absolute Error (MAE): 551.23"
   ]
  },
  {
   "cell_type": "markdown",
   "id": "2cf25d33",
   "metadata": {},
   "source": [
    "### Storing best performing model's predictions to BigQuery"
   ]
  },
  {
   "cell_type": "code",
   "execution_count": 14,
   "id": "c048f6fa",
   "metadata": {},
   "outputs": [
    {
     "name": "stderr",
     "output_type": "stream",
     "text": [
      "[Stage 48:>                                                         (0 + 1) / 1]\r"
     ]
    },
    {
     "name": "stdout",
     "output_type": "stream",
     "text": [
      "+------------+------------------+---------------------+-------------+--------------------+---------+--------+-----------+-----------------------+-------------------+-------------+-----------------------+-------------------+---------------+---------------+---------------+---------------+---------------+---------------+---------------+---------------+---------------+----------------+----------------+----------------+----------------+----------------+----------------+----------------+----------------+----------------+----------------+----------------+----------------+----------------+----------------+----------------+----------------+----------------+----------------+----------------+----------------+----------------+------------------+------------------+-------------------+-----------------------+-----------------------+-----------------------+-----------------------+------------------+------------------+--------------------+----------------------+----------------------+------------------------+------------------------+---------------------------------------------------------------------------------------------------------------------------------------------------------------------------------------------------------------------------------------------------------------------------------------------------------------------------------------------------------------------------------------------------------------------------------------------------------------------------------------------------------------------------------------------------------------------------------+-----------------+\n",
      "|transit_date|transit_mode_index|station_complex_index|borough_index|payment_method_index|ridership|transfer|day_of_week|day_of_week_sin        |day_of_week_cos    |week_of_month|week_of_month_sin      |week_of_month_cos  |ridership_lag_1|ridership_lag_2|ridership_lag_3|ridership_lag_4|ridership_lag_5|ridership_lag_6|ridership_lag_7|ridership_lag_8|ridership_lag_9|ridership_lag_10|ridership_lag_11|ridership_lag_12|ridership_lag_13|ridership_lag_14|ridership_lag_15|ridership_lag_16|ridership_lag_17|ridership_lag_18|ridership_lag_19|ridership_lag_20|ridership_lag_21|ridership_lag_22|ridership_lag_23|ridership_lag_24|ridership_lag_25|ridership_lag_26|ridership_lag_27|ridership_lag_28|ridership_lag_29|ridership_lag_30|ridership_7d_mv   |day_of_week_7d_mv |week_of_month_7d_mv|day_of_week_sin_7d_mv  |day_of_week_cos_7d_mv  |week_of_month_sin_7d_mv|week_of_month_cos_7d_mv|ridership_30d_mv  |day_of_week_30d_mv|week_of_month_30d_mv|day_of_week_sin_30d_mv|day_of_week_cos_30d_mv|week_of_month_sin_30d_mv|week_of_month_cos_30d_mv|features                                                                                                                                                                                                                                                                                                                                                                                                                                                                                                                                                                         |prediction       |\n",
      "+------------+------------------+---------------------+-------------+--------------------+---------+--------+-----------+-----------------------+-------------------+-------------+-----------------------+-------------------+---------------+---------------+---------------+---------------+---------------+---------------+---------------+---------------+---------------+----------------+----------------+----------------+----------------+----------------+----------------+----------------+----------------+----------------+----------------+----------------+----------------+----------------+----------------+----------------+----------------+----------------+----------------+----------------+----------------+----------------+------------------+------------------+-------------------+-----------------------+-----------------------+-----------------------+-----------------------+------------------+------------------+--------------------+----------------------+----------------------+------------------------+------------------------+---------------------------------------------------------------------------------------------------------------------------------------------------------------------------------------------------------------------------------------------------------------------------------------------------------------------------------------------------------------------------------------------------------------------------------------------------------------------------------------------------------------------------------------------------------------------------------+-----------------+\n",
      "|2024-06-08  |2                 |346                  |2            |2                   |287      |7       |7          |-2.4492935982947064E-16|1.0                |2.0          |0.5877852522924732     |-0.8090169943749473|434            |427            |430            |483            |444            |428            |448            |444            |456            |457             |476             |483             |442             |487             |434             |450             |461             |448             |409             |437             |457             |463             |446             |418             |1               |415             |523             |474             |382             |357             |442.0             |4.428571428571429 |2.142857142857143  |-0.362655839588269     |-0.174645847708045     |0.6793260830679667     |0.5064407102678196     |430.46666666666664|4.166666666666667 |2.566666666666667   |-0.1888638935663334   |-0.28394726257320296  |0.22191318713553582     |0.051502832395824545    |[2.0,346.0,2.0,2.0,7.0,-2.4492935982947064E-16,1.0,2.0,0.5877852522924732,-0.8090169943749473,434.0,427.0,430.0,483.0,444.0,428.0,448.0,444.0,456.0,457.0,476.0,483.0,442.0,487.0,434.0,450.0,461.0,448.0,409.0,437.0,457.0,463.0,446.0,418.0,1.0,415.0,523.0,474.0,382.0,357.0,442.0,4.428571428571429,2.142857142857143,-0.362655839588269,-0.174645847708045,0.6793260830679667,0.5064407102678196,430.46666666666664,4.166666666666667,2.566666666666667,-0.1888638935663334,-0.28394726257320296,0.22191318713553582,0.051502832395824545]                                  |267.2445983886719|\n",
      "|2024-05-29  |2                 |346                  |2            |2                   |444      |13      |4          |-0.433883739117558     |-0.9009688679024191|5.0          |-2.4492935982947064E-16|1.0                |456            |457            |476            |483            |442            |487            |434            |450            |461            |448             |409             |437             |457             |463             |446             |418             |1               |415             |523             |474             |382             |357             |2               |401             |411             |392             |350             |359             |407             |461             |462.14285714285717|4.142857142857143 |3.5714285714285716 |-0.1613970322597859    |-0.2715669811289171    |-0.7953688317225762    |-0.17014042937500767   |405.3             |4.266666666666667 |2.9                 |-0.17440110226241481  |-0.2205816336431223   |-0.16599321899218536    |-0.09213106741667375    |[2.0,346.0,2.0,2.0,4.0,-0.433883739117558,-0.9009688679024191,5.0,-2.4492935982947064E-16,1.0,456.0,457.0,476.0,483.0,442.0,487.0,434.0,450.0,461.0,448.0,409.0,437.0,457.0,463.0,446.0,418.0,1.0,415.0,523.0,474.0,382.0,357.0,2.0,401.0,411.0,392.0,350.0,359.0,407.0,461.0,462.14285714285717,4.142857142857143,3.5714285714285716,-0.1613970322597859,-0.2715669811289171,-0.7953688317225762,-0.17014042937500767,405.3,4.266666666666667,2.9,-0.17440110226241481,-0.2205816336431223,-0.16599321899218536,-0.09213106741667375]                                           |440.7408142089844|\n",
      "|2024-01-16  |2                 |109                  |3            |2                   |2628     |33      |3          |0.43388373911755823    |-0.900968867902419 |3.0          |-0.587785252292473     |-0.8090169943749476|1313           |1              |2227           |2688           |2695           |2729           |2398           |2474           |2811           |2858            |2625            |2               |3027            |2900            |2526            |2154            |2               |2               |2515            |3183            |3347            |3360            |2646            |3000            |3570            |3544            |3488            |2761            |2847            |3275            |2007.2857142857142|3.2857142857142856|2.142857142857143  |0.13927541602597482    |-0.17464584770804492   |0.4198466087803381     |-0.8090169943749473    |2432.266666666667 |4.2               |2.6333333333333333  |-0.16280284415073243  |-0.16976634465108387  |0.0662623248389071      |-0.2784700655416562     |[2.0,109.0,3.0,2.0,3.0,0.43388373911755823,-0.900968867902419,3.0,-0.587785252292473,-0.8090169943749476,1313.0,1.0,2227.0,2688.0,2695.0,2729.0,2398.0,2474.0,2811.0,2858.0,2625.0,2.0,3027.0,2900.0,2526.0,2154.0,2.0,2.0,2515.0,3183.0,3347.0,3360.0,2646.0,3000.0,3570.0,3544.0,3488.0,2761.0,2847.0,3275.0,2007.2857142857142,3.2857142857142856,2.142857142857143,0.13927541602597482,-0.17464584770804492,0.4198466087803381,-0.8090169943749473,2432.266666666667,4.2,2.6333333333333333,-0.16280284415073243,-0.16976634465108387,0.0662623248389071,-0.2784700655416562]|2289.254638671875|\n",
      "|2024-10-20  |2                 |146                  |4            |2                   |415      |1       |1          |0.7818314824680298     |0.6234898018587336 |3.0          |-0.587785252292473     |-0.8090169943749476|513            |1046           |1148           |1216           |1131           |667            |1022           |1114           |1149           |1167            |1042            |789             |885             |1069            |1183            |1007            |997             |1141            |1149            |1113            |1059            |1045            |1168            |1150            |1129            |1060            |432             |572             |1024            |1137            |963.2857142857143 |4.714285714285714 |2.7142857142857144 |-0.22338042356229426   |-5.15460690004537E-17  |-0.25190796526820264   |-0.8090169943749475    |1010.8            |4.2               |2.6333333333333333  |-0.16280284415073243  |-0.16976634465108387  |-0.05877852522924727    |-0.37603843164581763    |[2.0,146.0,4.0,2.0,1.0,0.7818314824680298,0.6234898018587336,3.0,-0.587785252292473,-0.8090169943749476,513.0,1046.0,1148.0,1216.0,1131.0,667.0,1022.0,1114.0,1149.0,1167.0,1042.0,789.0,885.0,1069.0,1183.0,1007.0,997.0,1141.0,1149.0,1113.0,1059.0,1045.0,1168.0,1150.0,1129.0,1060.0,432.0,572.0,1024.0,1137.0,963.2857142857143,4.714285714285714,2.7142857142857144,-0.22338042356229426,-5.15460690004537E-17,-0.25190796526820264,-0.8090169943749475,1010.8,4.2,2.6333333333333333,-0.16280284415073243,-0.16976634465108387,-0.05877852522924727,-0.37603843164581763] |521.6731567382812|\n",
      "|2024-10-27  |2                 |286                  |2            |2                   |941      |14      |1          |0.7818314824680298     |0.6234898018587336 |4.0          |-0.9510565162951536    |0.30901699437494723|1081           |2051           |2182           |2145           |2160           |2086           |893            |1043           |1976           |2118            |2182            |2117            |1207            |2017            |2080            |2115            |2046            |1958            |1613            |1666            |1995            |2009            |1795            |2074            |2083            |2137            |2059            |1932            |2024            |2118            |1799.7142857142858|4.0               |3.7142857142857144 |-1.9129579623850712E-17|-1.9825411154020653E-17|-0.847264726580102     |-0.010421288125022712  |1898.7333333333333|4.2               |2.9                 |-0.16280284415073243  |-0.16976634465108387  |-0.23688078635485532    |-0.18969943352083518    |[2.0,286.0,2.0,2.0,1.0,0.7818314824680298,0.6234898018587336,4.0,-0.9510565162951536,0.30901699437494723,1081.0,2051.0,2182.0,2145.0,2160.0,2086.0,893.0,1043.0,1976.0,2118.0,2182.0,2117.0,1207.0,2017.0,2080.0,2115.0,2046.0,1958.0,1613.0,1666.0,1995.0,2009.0,1795.0,2074.0,2083.0,2137.0,2059.0,1932.0,2024.0,2118.0,1799.7142857142858,4.0,3.7142857142857144,-1.9129579623850712E-17,-1.9825411154020653E-17,-0.847264726580102,-0.010421288125022712,1898.7333333333333,4.2,2.9,-0.16280284415073243,-0.16976634465108387,-0.23688078635485532,-0.18969943352083518]     |978.265869140625 |\n",
      "+------------+------------------+---------------------+-------------+--------------------+---------+--------+-----------+-----------------------+-------------------+-------------+-----------------------+-------------------+---------------+---------------+---------------+---------------+---------------+---------------+---------------+---------------+---------------+----------------+----------------+----------------+----------------+----------------+----------------+----------------+----------------+----------------+----------------+----------------+----------------+----------------+----------------+----------------+----------------+----------------+----------------+----------------+----------------+----------------+------------------+------------------+-------------------+-----------------------+-----------------------+-----------------------+-----------------------+------------------+------------------+--------------------+----------------------+----------------------+------------------------+------------------------+---------------------------------------------------------------------------------------------------------------------------------------------------------------------------------------------------------------------------------------------------------------------------------------------------------------------------------------------------------------------------------------------------------------------------------------------------------------------------------------------------------------------------------------------------------------------------------+-----------------+\n",
      "only showing top 5 rows\n",
      "\n"
     ]
    },
    {
     "name": "stderr",
     "output_type": "stream",
     "text": [
      "2025-04-18 07:30:06,111 INFO XGBoost-PySpark: predict_udf Do the inference on the CPUs\n",
      "                                                                                \r"
     ]
    }
   ],
   "source": [
    "# Cast transit_date to DateType\n",
    "xgb_predictions = xgb_predictions.withColumn(\"transit_date\", col(\"transit_date\").cast(\"date\"))\n",
    "xgb_predictions.show(5, truncate=False)"
   ]
  },
  {
   "cell_type": "code",
   "execution_count": 15,
   "id": "31c7fd07",
   "metadata": {},
   "outputs": [
    {
     "name": "stderr",
     "output_type": "stream",
     "text": [
      "[Stage 49:>                                                         (0 + 1) / 1]\r"
     ]
    },
    {
     "name": "stdout",
     "output_type": "stream",
     "text": [
      "+------------+------------------+-------------+---------------------+--------------------+---------+--------+-----------------+\n",
      "|transit_date|transit_mode_index|borough_index|station_complex_index|payment_method_index|ridership|transfer|prediction       |\n",
      "+------------+------------------+-------------+---------------------+--------------------+---------+--------+-----------------+\n",
      "|2024-06-08  |2                 |2            |346                  |2                   |287      |7       |267.2445983886719|\n",
      "|2024-05-29  |2                 |2            |346                  |2                   |444      |13      |440.7408142089844|\n",
      "|2024-01-16  |2                 |3            |109                  |2                   |2628     |33      |2289.254638671875|\n",
      "|2024-10-20  |2                 |4            |146                  |2                   |415      |1       |521.6731567382812|\n",
      "|2024-10-27  |2                 |2            |286                  |2                   |941      |14      |978.265869140625 |\n",
      "+------------+------------------+-------------+---------------------+--------------------+---------+--------+-----------------+\n",
      "only showing top 5 rows\n",
      "\n"
     ]
    },
    {
     "name": "stderr",
     "output_type": "stream",
     "text": [
      "2025-04-18 07:30:19,714 INFO XGBoost-PySpark: predict_udf Do the inference on the CPUs\n",
      "                                                                                \r"
     ]
    }
   ],
   "source": [
    "# Filter relevant columns\n",
    "xgb_date_pred = xgb_predictions.select(\"transit_date\", \"transit_mode_index\", \"borough_index\", \"station_complex_index\", \"payment_method_index\", \"ridership\", \"transfer\", \"prediction\")\n",
    "xgb_date_pred.show(5, truncate=False)"
   ]
  },
  {
   "cell_type": "code",
   "execution_count": 16,
   "id": "406ef032",
   "metadata": {},
   "outputs": [
    {
     "name": "stderr",
     "output_type": "stream",
     "text": [
      "[Stage 52:>                                                         (0 + 1) / 1]\r"
     ]
    },
    {
     "name": "stdout",
     "output_type": "stream",
     "text": [
      "+------------+------------------+-------------+---------------------+--------------------+---------+--------+-----------------+--------------+------------+---------+---------------+\n",
      "|transit_date|transit_mode_index|borough_index|station_complex_index|payment_method_index|ridership|transfer|prediction       |payment_method|transit_mode|borough  |station_complex|\n",
      "+------------+------------------+-------------+---------------------+--------------------+---------+--------+-----------------+--------------+------------+---------+---------------+\n",
      "|2024-06-08  |2                 |2            |346                  |2                   |287      |7       |267.2445983886719|omny          |subway      |Brooklyn |Neptune Av (F) |\n",
      "|2024-05-29  |2                 |2            |346                  |2                   |444      |13      |440.7408142089844|omny          |subway      |Brooklyn |Neptune Av (F) |\n",
      "|2024-01-16  |2                 |3            |109                  |2                   |2628     |33      |2289.254638671875|omny          |subway      |Manhattan|57 St (F)      |\n",
      "|2024-10-20  |2                 |4            |146                  |2                   |415      |1       |521.6731567382812|omny          |subway      |Queens   |88 St (A)      |\n",
      "|2024-10-27  |2                 |2            |286                  |2                   |941      |14      |978.265869140625 |omny          |subway      |Brooklyn |Grant Av (A)   |\n",
      "+------------+------------------+-------------+---------------------+--------------------+---------+--------+-----------------+--------------+------------+---------+---------------+\n",
      "only showing top 5 rows\n",
      "\n"
     ]
    },
    {
     "name": "stderr",
     "output_type": "stream",
     "text": [
      "2025-04-18 07:30:33,353 INFO XGBoost-PySpark: predict_udf Do the inference on the CPUs\n",
      "                                                                                \r"
     ]
    }
   ],
   "source": [
    "# Map encoded categorical columns to their original values\n",
    "payment_method_mapping = {1: 'metrocard', 2: 'omny'}\n",
    "transit_mode_mapping = {1: 'staten_island_railway', 2: 'subway', 3: 'tram'}\n",
    "borough_mapping = {1: 'Bronx', 2: 'Brooklyn', 3: 'Manhattan', 4: 'Queens', 5: 'Staten Island'}\n",
    "\n",
    "station_df = spark.read.csv(\"station_complex.csv\", header=True)\n",
    "station_df = station_df.withColumn(\"station_complex_index\", col(\"station_complex_index\").cast(\"int\"))\n",
    "station_df = station_df.select(\"station_complex_index\", \"station_complex\")\n",
    "# station_df.printSchema()\n",
    "\n",
    "station_map = station_df.rdd.collectAsMap()\n",
    "# print(station_mapping)\n",
    "station_mapping = [\n",
    "    item for pair in station_map.items() for item in (lit(pair[0]), lit(pair[1]))\n",
    "]\n",
    "\n",
    "# Create mapping expressions\n",
    "payment_method_expr = create_map([lit(k) for pair in payment_method_mapping.items() for k in pair])\n",
    "transit_mode_expr = create_map([lit(k) for pair in transit_mode_mapping.items() for k in pair])\n",
    "borough_expr = create_map([lit(k) for pair in borough_mapping.items() for k in pair])\n",
    "station_complex_expr = create_map(*station_mapping)\n",
    "\n",
    "# Apply the mappings\n",
    "xgb_date_pred_mapped = xgb_date_pred.withColumn(\n",
    "    \"payment_method\", \n",
    "    payment_method_expr[col(\"payment_method_index\").cast(\"int\")]\n",
    ").withColumn(\n",
    "    \"transit_mode\", \n",
    "    transit_mode_expr[col(\"transit_mode_index\").cast(\"int\")]\n",
    ").withColumn(\n",
    "    \"borough\", \n",
    "    borough_expr[col(\"borough_index\").cast(\"int\")]\n",
    ").withColumn(\n",
    "    \"station_complex\", \n",
    "    station_complex_expr[col(\"station_complex_index\").cast(\"int\")]\n",
    ")\n",
    "\n",
    "xgb_date_pred_mapped.show(5, truncate=False)"
   ]
  },
  {
   "cell_type": "code",
   "execution_count": 17,
   "id": "aae25f07",
   "metadata": {},
   "outputs": [
    {
     "name": "stderr",
     "output_type": "stream",
     "text": [
      "[Stage 53:>                                                         (0 + 1) / 1]\r"
     ]
    },
    {
     "name": "stdout",
     "output_type": "stream",
     "text": [
      "+------------+------------+---------+---------------+--------------+---------+--------+-----------------+\n",
      "|transit_date|transit_mode|  borough|station_complex|payment_method|ridership|transfer|       prediction|\n",
      "+------------+------------+---------+---------------+--------------+---------+--------+-----------------+\n",
      "|  2024-06-08|      subway| Brooklyn| Neptune Av (F)|          omny|      287|       7|267.2445983886719|\n",
      "|  2024-05-29|      subway| Brooklyn| Neptune Av (F)|          omny|      444|      13|440.7408142089844|\n",
      "|  2024-01-16|      subway|Manhattan|      57 St (F)|          omny|     2628|      33|2289.254638671875|\n",
      "|  2024-10-20|      subway|   Queens|      88 St (A)|          omny|      415|       1|521.6731567382812|\n",
      "|  2024-10-27|      subway| Brooklyn|   Grant Av (A)|          omny|      941|      14| 978.265869140625|\n",
      "+------------+------------+---------+---------------+--------------+---------+--------+-----------------+\n",
      "only showing top 5 rows\n",
      "\n"
     ]
    },
    {
     "name": "stderr",
     "output_type": "stream",
     "text": [
      "2025-04-18 07:30:46,771 INFO XGBoost-PySpark: predict_udf Do the inference on the CPUs\n",
      "                                                                                \r"
     ]
    }
   ],
   "source": [
    "# Filter relevant columns\n",
    "xgb_date_pred_bq = xgb_date_pred_mapped.select('transit_date', 'transit_mode', 'borough', 'station_complex', 'payment_method', 'ridership', 'transfer', 'prediction')\n",
    "xgb_date_pred_bq.show(5)"
   ]
  },
  {
   "cell_type": "code",
   "execution_count": null,
   "id": "873fe7ef",
   "metadata": {},
   "outputs": [
    {
     "name": "stderr",
     "output_type": "stream",
     "text": [
      "2025-04-18 07:31:05,476 INFO XGBoost-PySpark: predict_udf Do the inference on the CPUs\n"
     ]
    },
    {
     "name": "stderr",
     "output_type": "stream",
     "text": [
      "                                                                                \r"
     ]
    }
   ],
   "source": [
    "# Write predictions to BigQuery\n",
    "xgb_date_pred_bq.write.format(\"bigquery\") \\\n",
    "    .option(\"table\", \"lively-encoder-448916-d5.nyc_subway.daily_predictions\") \\\n",
    "    .option(\"temporaryGcsBucket\", \"temp_nyc_bucket_for_bq\") \\\n",
    "    .mode(\"overwrite\") \\\n",
    "    .save()"
   ]
  }
 ],
 "metadata": {
  "kernelspec": {
   "display_name": "Python 3",
   "language": "python",
   "name": "python3"
  },
  "language_info": {
   "codemirror_mode": {
    "name": "ipython",
    "version": 3
   },
   "file_extension": ".py",
   "mimetype": "text/x-python",
   "name": "python",
   "nbconvert_exporter": "python",
   "pygments_lexer": "ipython3",
   "version": "3.12.3"
  }
 },
 "nbformat": 4,
 "nbformat_minor": 5
}
