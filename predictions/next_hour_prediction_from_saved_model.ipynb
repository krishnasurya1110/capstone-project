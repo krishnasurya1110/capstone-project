{
 "cells": [
  {
   "cell_type": "code",
   "execution_count": 1,
   "id": "ba182d59",
   "metadata": {},
   "outputs": [
    {
     "name": "stderr",
     "output_type": "stream",
     "text": [
      "                                                                                \r"
     ]
    }
   ],
   "source": [
    "from pyspark.ml import PipelineModel\n",
    "\n",
    "model_path = \"gs://model_stored_for_pred_forecast/hourly_prediction/\"\n",
    "model = PipelineModel.load(model_path)"
   ]
  },
  {
   "cell_type": "code",
   "execution_count": 2,
   "id": "a712b095",
   "metadata": {},
   "outputs": [
    {
     "data": {
      "text/plain": [
       "pyspark.ml.pipeline.PipelineModel"
      ]
     },
     "execution_count": 2,
     "metadata": {},
     "output_type": "execute_result"
    }
   ],
   "source": [
    "type(model)"
   ]
  },
  {
   "cell_type": "code",
   "execution_count": 3,
   "id": "6ea409f1",
   "metadata": {},
   "outputs": [
    {
     "data": {
      "text/plain": [
       "[VectorAssembler_5e181915096d, SparkXGBRegressor_ac03c6c3bb22]"
      ]
     },
     "execution_count": 3,
     "metadata": {},
     "output_type": "execute_result"
    }
   ],
   "source": [
    "model.stages"
   ]
  },
  {
   "cell_type": "code",
   "execution_count": 7,
   "id": "02a54dad",
   "metadata": {
    "scrolled": true
   },
   "outputs": [],
   "source": [
    "# model.stages[0].getInputCols()  # Shows the input features"
   ]
  },
  {
   "cell_type": "code",
   "execution_count": 9,
   "id": "79372af2",
   "metadata": {},
   "outputs": [
    {
     "name": "stderr",
     "output_type": "stream",
     "text": [
      "25/04/19 20:11:18 WARN package: Truncated the string representation of a plan since it was too large. This behavior can be adjusted by setting 'spark.sql.debug.maxToStringFields'.\n",
      "                                                                                \r"
     ]
    },
    {
     "name": "stdout",
     "output_type": "stream",
     "text": [
      "+------------------+---------------------+-------------+--------------------+-----------+---------------+---------------+-----------+------------------+-------------------+-------------+------------------+-------------------+---------------+---------------+---------------+---------------+---------------+---------------+---------------+---------------+---------------+----------------+----------------+----------------+----------------+----------------+----------------+----------------+----------------+----------------+----------------+----------------+----------------+----------------+----------------+----------------+------------------+-----------------+-----------------+-------------------+---------------------+---------------------+---------------------+---------------------+-----------------------+-----------------------+------------------+------------------+------------------+--------------------+----------------------+----------------------+----------------------+----------------------+------------------------+------------------------+\n",
      "|transit_mode_index|station_complex_index|borough_index|payment_method_index|hour_of_day|hour_of_day_sin|hour_of_day_cos|day_of_week|   day_of_week_sin|    day_of_week_cos|week_of_month| week_of_month_sin|  week_of_month_cos|ridership_lag_1|ridership_lag_2|ridership_lag_3|ridership_lag_4|ridership_lag_5|ridership_lag_6|ridership_lag_7|ridership_lag_8|ridership_lag_9|ridership_lag_10|ridership_lag_11|ridership_lag_12|ridership_lag_13|ridership_lag_14|ridership_lag_15|ridership_lag_16|ridership_lag_17|ridership_lag_18|ridership_lag_19|ridership_lag_20|ridership_lag_21|ridership_lag_22|ridership_lag_23|ridership_lag_24|   ridership_7d_mv|hour_of_day_7d_mv|day_of_week_7d_mv|week_of_month_7d_mv|hour_of_day_sin_7d_mv|hour_of_day_cos_7d_mv|day_of_week_sin_7d_mv|day_of_week_cos_7d_mv|week_of_month_sin_7d_mv|week_of_month_cos_7d_mv|  ridership_30d_mv|hour_of_day_30d_mv|day_of_week_30d_mv|week_of_month_30d_mv|hour_of_day_sin_30d_mv|hour_of_day_cos_30d_mv|day_of_week_sin_30d_mv|day_of_week_cos_30d_mv|week_of_month_sin_30d_mv|week_of_month_cos_30d_mv|\n",
      "+------------------+---------------------+-------------+--------------------+-----------+---------------+---------------+-----------+------------------+-------------------+-------------+------------------+-------------------+---------------+---------------+---------------+---------------+---------------+---------------+---------------+---------------+---------------+----------------+----------------+----------------+----------------+----------------+----------------+----------------+----------------+----------------+----------------+----------------+----------------+----------------+----------------+----------------+------------------+-----------------+-----------------+-------------------+---------------------+---------------------+---------------------+---------------------+-----------------------+-----------------------+------------------+------------------+------------------+--------------------+----------------------+----------------------+----------------------+----------------------+------------------------+------------------------+\n",
      "|                 2|                  316|            1|                   2|          0|            0.0|            1.0|          4|-0.433883739117558|-0.9009688679024191|          1.0|0.9510565162951535|0.30901699437494745|             10|             22|             37|             45|             44|             48|             41|             73|             75|             103|              95|              74|              75|              92|             129|             229|             213|             117|             105|              29|               5|               1|               6|               7|35.285714285714285|             20.0|              3.0|                5.0|  -0.7519718403788065|   0.4341511444657219|  0.43388373911755823|   -0.900968867902419|   -2.44929359829470...|                    1.0|62.666666666666664|              13.3|               2.8|                 5.0|  -0.14326256854541924|   0.10992923521208575|    0.5420925737304113|   -0.7652792811131981|    -2.44929359829470...|                     1.0|\n",
      "+------------------+---------------------+-------------+--------------------+-----------+---------------+---------------+-----------+------------------+-------------------+-------------+------------------+-------------------+---------------+---------------+---------------+---------------+---------------+---------------+---------------+---------------+---------------+----------------+----------------+----------------+----------------+----------------+----------------+----------------+----------------+----------------+----------------+----------------+----------------+----------------+----------------+----------------+------------------+-----------------+-----------------+-------------------+---------------------+---------------------+---------------------+---------------------+-----------------------+-----------------------+------------------+------------------+------------------+--------------------+----------------------+----------------------+----------------------+----------------------+------------------------+------------------------+\n",
      "only showing top 1 row\n",
      "\n"
     ]
    }
   ],
   "source": [
    "# Configure the BigQuery table\n",
    "project_id = \"lively-encoder-448916-d5\"\n",
    "dataset_id = \"nyc_subway\"\n",
    "table_id = \"hourly_future_pred_input\"\n",
    "\n",
    "# Read the BigQuery table into a Spark DataFrame\n",
    "input_hourly_df = spark.read \\\n",
    "    .format(\"bigquery\") \\\n",
    "    .option(\"table\", f\"{project_id}.{dataset_id}.{table_id}\") \\\n",
    "    .option(\"parentProject\", project_id) \\\n",
    "    .load()\n",
    "\n",
    "# Show the DataFrame\n",
    "input_hourly_df.show(1)"
   ]
  },
  {
   "cell_type": "code",
   "execution_count": 10,
   "id": "964d6220",
   "metadata": {},
   "outputs": [],
   "source": [
    "output_predictions = model.transform(input_hourly_df)\n",
    "output_predictions = output_predictions.select('transit_mode_index', 'station_complex_index', 'borough_index', 'payment_method_index', 'prediction')"
   ]
  },
  {
   "cell_type": "code",
   "execution_count": 12,
   "id": "cae425c5",
   "metadata": {},
   "outputs": [
    {
     "name": "stderr",
     "output_type": "stream",
     "text": [
      "[Stage 10:>                                                         (0 + 1) / 1]\r"
     ]
    },
    {
     "name": "stdout",
     "output_type": "stream",
     "text": [
      "+------------------+---------------------+-------------+--------------------+-----------------+\n",
      "|transit_mode_index|station_complex_index|borough_index|payment_method_index|       prediction|\n",
      "+------------------+---------------------+-------------+--------------------+-----------------+\n",
      "|                 2|                  316|            1|                   2|  5.5547194480896|\n",
      "|                 2|                  390|            1|                   2|9.157230377197266|\n",
      "|                 2|                  211|            1|                   1|8.512842178344727|\n",
      "|                 2|                  300|            1|                   1|12.43112850189209|\n",
      "|                 2|                   82|            1|                   2|26.37932586669922|\n",
      "+------------------+---------------------+-------------+--------------------+-----------------+\n",
      "only showing top 5 rows\n",
      "\n"
     ]
    },
    {
     "name": "stderr",
     "output_type": "stream",
     "text": [
      "                                                                                \r"
     ]
    }
   ],
   "source": [
    "output_predictions.show(5)"
   ]
  },
  {
   "cell_type": "code",
   "execution_count": 11,
   "id": "b6a1f3a7",
   "metadata": {
    "scrolled": false
   },
   "outputs": [
    {
     "name": "stderr",
     "output_type": "stream",
     "text": [
      "[Stage 9:>                                                          (0 + 1) / 1]\r"
     ]
    },
    {
     "name": "stdout",
     "output_type": "stream",
     "text": [
      "+------------+--------------------+-------+--------------+----------+\n",
      "|transit_mode|station_complex     |borough|payment_method|prediction|\n",
      "+------------+--------------------+-------+--------------+----------+\n",
      "|subway      |Kingsbridge Rd (B,D)|Bronx  |omny          |6         |\n",
      "|subway      |Simpson St (2,5)    |Bronx  |omny          |9         |\n",
      "|subway      |Burnside Av (4)     |Bronx  |metrocard     |9         |\n",
      "|subway      |Hunts Point Av (6)  |Bronx  |metrocard     |12        |\n",
      "|subway      |3 Av-149 St (2,5)   |Bronx  |omny          |26        |\n",
      "+------------+--------------------+-------+--------------+----------+\n",
      "only showing top 5 rows\n",
      "\n"
     ]
    },
    {
     "name": "stderr",
     "output_type": "stream",
     "text": [
      "                                                                                \r"
     ]
    }
   ],
   "source": [
    "from pyspark.sql.functions import col, lit, create_map, round\n",
    "\n",
    "# Map encoded categorical columns to their original values\n",
    "payment_method_mapping = {1: 'metrocard', 2: 'omny'}\n",
    "transit_mode_mapping = {1: 'staten_island_railway', 2: 'subway', 3: 'tram'}\n",
    "borough_mapping = {1: 'Bronx', 2: 'Brooklyn', 3: 'Manhattan', 4: 'Queens', 5: 'Staten Island'}\n",
    "\n",
    "station_df = spark.read.csv(\"gs://bucket_jars/station_complex_csv/station_complex.csv\", header=True)\n",
    "station_df = station_df.withColumn(\"station_complex_index\", col(\"station_complex_index\").cast(\"int\"))\n",
    "station_df = station_df.select(\"station_complex_index\", \"station_complex\")\n",
    "# station_df.printSchema()\n",
    "\n",
    "station_map = station_df.rdd.collectAsMap()\n",
    "# print(station_mapping)\n",
    "station_mapping = [\n",
    "    item for pair in station_map.items() for item in (lit(pair[0]), lit(pair[1]))\n",
    "]\n",
    "\n",
    "# Create mapping expressions\n",
    "payment_method_expr = create_map([lit(k) for pair in payment_method_mapping.items() for k in pair])\n",
    "transit_mode_expr = create_map([lit(k) for pair in transit_mode_mapping.items() for k in pair])\n",
    "borough_expr = create_map([lit(k) for pair in borough_mapping.items() for k in pair])\n",
    "station_complex_expr = create_map(*station_mapping)\n",
    "\n",
    "# Apply the mappings\n",
    "predictions_df = output_predictions.withColumn(\n",
    "                        \"payment_method\", \n",
    "                        payment_method_expr[col(\"payment_method_index\").cast(\"int\")]\n",
    "                    ).withColumn(\n",
    "                        \"transit_mode\", \n",
    "                        transit_mode_expr[col(\"transit_mode_index\").cast(\"int\")]\n",
    "                    ).withColumn(\n",
    "                        \"borough\", \n",
    "                        borough_expr[col(\"borough_index\").cast(\"int\")]\n",
    "                    ).withColumn(\n",
    "                        \"station_complex\", \n",
    "                        station_complex_expr[col(\"station_complex_index\").cast(\"int\")]\n",
    "                    )\n",
    "\n",
    "predictions_df = predictions_df.select('transit_mode', 'station_complex', 'borough', 'payment_method', 'prediction')\n",
    "predictions_df = predictions_df.withColumn(\"prediction\", round(\"prediction\", 0))\n",
    "predictions_df = predictions_df.withColumn(\"prediction\", col(\"prediction\").cast(\"integer\"))\n",
    "predictions_df.show(5, truncate=False)"
   ]
  },
  {
   "cell_type": "code",
   "execution_count": 13,
   "id": "0229649c",
   "metadata": {},
   "outputs": [
    {
     "name": "stderr",
     "output_type": "stream",
     "text": [
      "                                                                                \r"
     ]
    }
   ],
   "source": [
    "# Write predictions to BigQuery\n",
    "predictions_df.write.format(\"bigquery\") \\\n",
    "    .option(\"table\", \"lively-encoder-448916-d5.nyc_subway.hourly_future_pred_output\") \\\n",
    "    .option(\"temporaryGcsBucket\", \"temp_nyc_bucket_for_bq\") \\\n",
    "    .mode(\"overwrite\") \\\n",
    "    .save()"
   ]
  }
 ],
 "metadata": {
  "kernelspec": {
   "display_name": "PySpark",
   "language": "python",
   "name": "pyspark"
  },
  "language_info": {
   "codemirror_mode": {
    "name": "ipython",
    "version": 3
   },
   "file_extension": ".py",
   "mimetype": "text/x-python",
   "name": "python",
   "nbconvert_exporter": "python",
   "pygments_lexer": "ipython3",
   "version": "3.10.8"
  }
 },
 "nbformat": 4,
 "nbformat_minor": 5
}
